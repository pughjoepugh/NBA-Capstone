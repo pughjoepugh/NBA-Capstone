{
 "cells": [
  {
   "cell_type": "code",
   "execution_count": 15,
   "metadata": {},
   "outputs": [],
   "source": [
    "# load packages\n",
    "import pandas as pd\n",
    "import numpy as np\n",
    "import matplotlib.pyplot as plt\n",
    "import seaborn as sns \n",
    "import statsmodels.api as sm\n",
    "from statsmodels.graphics.api import abline_plot\n",
    "from sklearn.metrics import mean_squared_error, r2_score\n",
    "from sklearn.model_selection import train_test_split\n",
    "from sklearn import linear_model, preprocessing\n",
    "from sklearn.neighbors import KNeighborsRegressor\n",
    "from sklearn.model_selection import GridSearchCV"
   ]
  },
  {
   "cell_type": "code",
   "execution_count": 17,
   "metadata": {},
   "outputs": [
    {
     "data": {
      "text/html": [
       "<div>\n",
       "<style scoped>\n",
       "    .dataframe tbody tr th:only-of-type {\n",
       "        vertical-align: middle;\n",
       "    }\n",
       "\n",
       "    .dataframe tbody tr th {\n",
       "        vertical-align: top;\n",
       "    }\n",
       "\n",
       "    .dataframe thead th {\n",
       "        text-align: right;\n",
       "    }\n",
       "</style>\n",
       "<table border=\"1\" class=\"dataframe\">\n",
       "  <thead>\n",
       "    <tr style=\"text-align: right;\">\n",
       "      <th></th>\n",
       "      <th>Season</th>\n",
       "      <th>Row ID</th>\n",
       "      <th>Team</th>\n",
       "      <th>Wins</th>\n",
       "      <th>1 TS</th>\n",
       "      <th>1% TS</th>\n",
       "      <th>1% SC</th>\n",
       "      <th>2 TS</th>\n",
       "      <th>2% TS</th>\n",
       "      <th>2% SC</th>\n",
       "      <th>...</th>\n",
       "      <th>7% SC</th>\n",
       "      <th>8 TS</th>\n",
       "      <th>8% TS</th>\n",
       "      <th>8% SC</th>\n",
       "      <th>9 TS</th>\n",
       "      <th>9% TS</th>\n",
       "      <th>9% SC</th>\n",
       "      <th>10 TS</th>\n",
       "      <th>10% TS</th>\n",
       "      <th>10% SC</th>\n",
       "    </tr>\n",
       "  </thead>\n",
       "  <tbody>\n",
       "    <tr>\n",
       "      <th>0</th>\n",
       "      <td>2016-17</td>\n",
       "      <td>0</td>\n",
       "      <td>Utah Jazz</td>\n",
       "      <td>0.621951</td>\n",
       "      <td>16073140.0</td>\n",
       "      <td>19.942308</td>\n",
       "      <td>17.073112</td>\n",
       "      <td>27123140.0</td>\n",
       "      <td>33.652293</td>\n",
       "      <td>28.810575</td>\n",
       "      <td>...</td>\n",
       "      <td>71.399844</td>\n",
       "      <td>69651289.0</td>\n",
       "      <td>86.417929</td>\n",
       "      <td>73.984565</td>\n",
       "      <td>71991889.0</td>\n",
       "      <td>89.321964</td>\n",
       "      <td>76.470783</td>\n",
       "      <td>74241889.0</td>\n",
       "      <td>92.113590</td>\n",
       "      <td>78.860764</td>\n",
       "    </tr>\n",
       "    <tr>\n",
       "      <th>1</th>\n",
       "      <td>2016-17</td>\n",
       "      <td>1</td>\n",
       "      <td>Denver Nuggets</td>\n",
       "      <td>0.487805</td>\n",
       "      <td>15050000.0</td>\n",
       "      <td>18.226077</td>\n",
       "      <td>15.986319</td>\n",
       "      <td>27128652.0</td>\n",
       "      <td>32.853747</td>\n",
       "      <td>28.816430</td>\n",
       "      <td>...</td>\n",
       "      <td>63.172711</td>\n",
       "      <td>62972685.0</td>\n",
       "      <td>76.262125</td>\n",
       "      <td>66.890459</td>\n",
       "      <td>66214485.0</td>\n",
       "      <td>80.188058</td>\n",
       "      <td>70.333944</td>\n",
       "      <td>69425325.0</td>\n",
       "      <td>84.076498</td>\n",
       "      <td>73.744543</td>\n",
       "    </tr>\n",
       "    <tr>\n",
       "      <th>2</th>\n",
       "      <td>2016-17</td>\n",
       "      <td>2</td>\n",
       "      <td>Portland Trailblazers</td>\n",
       "      <td>0.500000</td>\n",
       "      <td>24328425.0</td>\n",
       "      <td>21.746512</td>\n",
       "      <td>25.841990</td>\n",
       "      <td>42828425.0</td>\n",
       "      <td>38.283155</td>\n",
       "      <td>45.492947</td>\n",
       "      <td>...</td>\n",
       "      <td>98.260180</td>\n",
       "      <td>99171748.0</td>\n",
       "      <td>88.646906</td>\n",
       "      <td>105.341606</td>\n",
       "      <td>102391327.0</td>\n",
       "      <td>91.524800</td>\n",
       "      <td>108.761487</td>\n",
       "      <td>105142687.0</td>\n",
       "      <td>93.984165</td>\n",
       "      <td>111.684020</td>\n",
       "    </tr>\n",
       "    <tr>\n",
       "      <th>3</th>\n",
       "      <td>2016-17</td>\n",
       "      <td>3</td>\n",
       "      <td>Minnesota Timberwolves</td>\n",
       "      <td>0.378049</td>\n",
       "      <td>13550000.0</td>\n",
       "      <td>16.601043</td>\n",
       "      <td>14.392998</td>\n",
       "      <td>25650000.0</td>\n",
       "      <td>31.425590</td>\n",
       "      <td>27.245786</td>\n",
       "      <td>...</td>\n",
       "      <td>60.729018</td>\n",
       "      <td>61044639.0</td>\n",
       "      <td>74.790012</td>\n",
       "      <td>64.842462</td>\n",
       "      <td>64844639.0</td>\n",
       "      <td>79.445655</td>\n",
       "      <td>68.878875</td>\n",
       "      <td>68344639.0</td>\n",
       "      <td>83.733747</td>\n",
       "      <td>72.596623</td>\n",
       "    </tr>\n",
       "    <tr>\n",
       "      <th>4</th>\n",
       "      <td>2016-17</td>\n",
       "      <td>4</td>\n",
       "      <td>Oklahoma City Thunder</td>\n",
       "      <td>0.573171</td>\n",
       "      <td>26540100.0</td>\n",
       "      <td>29.056399</td>\n",
       "      <td>28.191262</td>\n",
       "      <td>43685938.0</td>\n",
       "      <td>47.827855</td>\n",
       "      <td>46.403809</td>\n",
       "      <td>...</td>\n",
       "      <td>78.360751</td>\n",
       "      <td>76911679.0</td>\n",
       "      <td>84.203768</td>\n",
       "      <td>81.696652</td>\n",
       "      <td>79469224.0</td>\n",
       "      <td>87.003797</td>\n",
       "      <td>84.413312</td>\n",
       "      <td>81952264.0</td>\n",
       "      <td>89.722257</td>\n",
       "      <td>87.050831</td>\n",
       "    </tr>\n",
       "    <tr>\n",
       "      <th>...</th>\n",
       "      <td>...</td>\n",
       "      <td>...</td>\n",
       "      <td>...</td>\n",
       "      <td>...</td>\n",
       "      <td>...</td>\n",
       "      <td>...</td>\n",
       "      <td>...</td>\n",
       "      <td>...</td>\n",
       "      <td>...</td>\n",
       "      <td>...</td>\n",
       "      <td>...</td>\n",
       "      <td>...</td>\n",
       "      <td>...</td>\n",
       "      <td>...</td>\n",
       "      <td>...</td>\n",
       "      <td>...</td>\n",
       "      <td>...</td>\n",
       "      <td>...</td>\n",
       "      <td>...</td>\n",
       "      <td>...</td>\n",
       "      <td>...</td>\n",
       "    </tr>\n",
       "    <tr>\n",
       "      <th>145</th>\n",
       "      <td>2020-21</td>\n",
       "      <td>25</td>\n",
       "      <td>Philadelphia 76ers</td>\n",
       "      <td>0.680556</td>\n",
       "      <td>33517241.0</td>\n",
       "      <td>23.160351</td>\n",
       "      <td>35.602478</td>\n",
       "      <td>63059251.0</td>\n",
       "      <td>43.573824</td>\n",
       "      <td>66.982411</td>\n",
       "      <td>...</td>\n",
       "      <td>138.178101</td>\n",
       "      <td>132796290.0</td>\n",
       "      <td>91.761987</td>\n",
       "      <td>141.058061</td>\n",
       "      <td>135361043.0</td>\n",
       "      <td>93.534227</td>\n",
       "      <td>143.782377</td>\n",
       "      <td>137839883.0</td>\n",
       "      <td>95.247101</td>\n",
       "      <td>146.415435</td>\n",
       "    </tr>\n",
       "    <tr>\n",
       "      <th>146</th>\n",
       "      <td>2020-21</td>\n",
       "      <td>26</td>\n",
       "      <td>Brooklyn Nets</td>\n",
       "      <td>0.666667</td>\n",
       "      <td>41254920.0</td>\n",
       "      <td>24.808721</td>\n",
       "      <td>37.800000</td>\n",
       "      <td>81363870.0</td>\n",
       "      <td>48.928310</td>\n",
       "      <td>74.550000</td>\n",
       "      <td>...</td>\n",
       "      <td>142.285256</td>\n",
       "      <td>157380168.0</td>\n",
       "      <td>94.640848</td>\n",
       "      <td>144.200264</td>\n",
       "      <td>159204171.0</td>\n",
       "      <td>95.737715</td>\n",
       "      <td>145.871515</td>\n",
       "      <td>160868032.0</td>\n",
       "      <td>96.738281</td>\n",
       "      <td>147.396034</td>\n",
       "    </tr>\n",
       "    <tr>\n",
       "      <th>147</th>\n",
       "      <td>2020-21</td>\n",
       "      <td>27</td>\n",
       "      <td>New York Knicks</td>\n",
       "      <td>0.430556</td>\n",
       "      <td>18900000.0</td>\n",
       "      <td>20.263557</td>\n",
       "      <td>17.317207</td>\n",
       "      <td>27131760.0</td>\n",
       "      <td>29.089205</td>\n",
       "      <td>24.859593</td>\n",
       "      <td>...</td>\n",
       "      <td>53.530265</td>\n",
       "      <td>63284971.0</td>\n",
       "      <td>67.850721</td>\n",
       "      <td>57.985130</td>\n",
       "      <td>64284971.0</td>\n",
       "      <td>68.922867</td>\n",
       "      <td>58.901384</td>\n",
       "      <td>68873651.0</td>\n",
       "      <td>73.842601</td>\n",
       "      <td>63.105782</td>\n",
       "    </tr>\n",
       "    <tr>\n",
       "      <th>148</th>\n",
       "      <td>2020-21</td>\n",
       "      <td>28</td>\n",
       "      <td>Toronto Raptors</td>\n",
       "      <td>0.375000</td>\n",
       "      <td>30559200.0</td>\n",
       "      <td>23.905854</td>\n",
       "      <td>28.000000</td>\n",
       "      <td>61059200.0</td>\n",
       "      <td>47.765397</td>\n",
       "      <td>55.945758</td>\n",
       "      <td>...</td>\n",
       "      <td>100.656634</td>\n",
       "      <td>113728865.0</td>\n",
       "      <td>88.967828</td>\n",
       "      <td>104.204568</td>\n",
       "      <td>117533015.0</td>\n",
       "      <td>91.943739</td>\n",
       "      <td>107.690137</td>\n",
       "      <td>119791015.0</td>\n",
       "      <td>93.710128</td>\n",
       "      <td>109.759039</td>\n",
       "    </tr>\n",
       "    <tr>\n",
       "      <th>149</th>\n",
       "      <td>2020-21</td>\n",
       "      <td>29</td>\n",
       "      <td>Boston Celtics</td>\n",
       "      <td>0.500000</td>\n",
       "      <td>34379100.0</td>\n",
       "      <td>26.290199</td>\n",
       "      <td>31.500000</td>\n",
       "      <td>57816600.0</td>\n",
       "      <td>44.213196</td>\n",
       "      <td>52.974711</td>\n",
       "      <td>...</td>\n",
       "      <td>102.161763</td>\n",
       "      <td>114957748.0</td>\n",
       "      <td>87.909865</td>\n",
       "      <td>105.330537</td>\n",
       "      <td>117456508.0</td>\n",
       "      <td>89.820703</td>\n",
       "      <td>107.620037</td>\n",
       "      <td>119706508.0</td>\n",
       "      <td>91.541311</td>\n",
       "      <td>109.681609</td>\n",
       "    </tr>\n",
       "  </tbody>\n",
       "</table>\n",
       "<p>150 rows × 34 columns</p>\n",
       "</div>"
      ],
      "text/plain": [
       "      Season  Row ID                    Team      Wins        1 TS      1% TS  \\\n",
       "0    2016-17       0               Utah Jazz  0.621951  16073140.0  19.942308   \n",
       "1    2016-17       1          Denver Nuggets  0.487805  15050000.0  18.226077   \n",
       "2    2016-17       2   Portland Trailblazers  0.500000  24328425.0  21.746512   \n",
       "3    2016-17       3  Minnesota Timberwolves  0.378049  13550000.0  16.601043   \n",
       "4    2016-17       4   Oklahoma City Thunder  0.573171  26540100.0  29.056399   \n",
       "..       ...     ...                     ...       ...         ...        ...   \n",
       "145  2020-21      25      Philadelphia 76ers  0.680556  33517241.0  23.160351   \n",
       "146  2020-21      26           Brooklyn Nets  0.666667  41254920.0  24.808721   \n",
       "147  2020-21      27         New York Knicks  0.430556  18900000.0  20.263557   \n",
       "148  2020-21      28         Toronto Raptors  0.375000  30559200.0  23.905854   \n",
       "149  2020-21      29          Boston Celtics  0.500000  34379100.0  26.290199   \n",
       "\n",
       "         1% SC        2 TS      2% TS      2% SC  ...       7% SC  \\\n",
       "0    17.073112  27123140.0  33.652293  28.810575  ...   71.399844   \n",
       "1    15.986319  27128652.0  32.853747  28.816430  ...   63.172711   \n",
       "2    25.841990  42828425.0  38.283155  45.492947  ...   98.260180   \n",
       "3    14.392998  25650000.0  31.425590  27.245786  ...   60.729018   \n",
       "4    28.191262  43685938.0  47.827855  46.403809  ...   78.360751   \n",
       "..         ...         ...        ...        ...  ...         ...   \n",
       "145  35.602478  63059251.0  43.573824  66.982411  ...  138.178101   \n",
       "146  37.800000  81363870.0  48.928310  74.550000  ...  142.285256   \n",
       "147  17.317207  27131760.0  29.089205  24.859593  ...   53.530265   \n",
       "148  28.000000  61059200.0  47.765397  55.945758  ...  100.656634   \n",
       "149  31.500000  57816600.0  44.213196  52.974711  ...  102.161763   \n",
       "\n",
       "            8 TS      8% TS       8% SC         9 TS      9% TS       9% SC  \\\n",
       "0     69651289.0  86.417929   73.984565   71991889.0  89.321964   76.470783   \n",
       "1     62972685.0  76.262125   66.890459   66214485.0  80.188058   70.333944   \n",
       "2     99171748.0  88.646906  105.341606  102391327.0  91.524800  108.761487   \n",
       "3     61044639.0  74.790012   64.842462   64844639.0  79.445655   68.878875   \n",
       "4     76911679.0  84.203768   81.696652   79469224.0  87.003797   84.413312   \n",
       "..           ...        ...         ...          ...        ...         ...   \n",
       "145  132796290.0  91.761987  141.058061  135361043.0  93.534227  143.782377   \n",
       "146  157380168.0  94.640848  144.200264  159204171.0  95.737715  145.871515   \n",
       "147   63284971.0  67.850721   57.985130   64284971.0  68.922867   58.901384   \n",
       "148  113728865.0  88.967828  104.204568  117533015.0  91.943739  107.690137   \n",
       "149  114957748.0  87.909865  105.330537  117456508.0  89.820703  107.620037   \n",
       "\n",
       "           10 TS     10% TS      10% SC  \n",
       "0     74241889.0  92.113590   78.860764  \n",
       "1     69425325.0  84.076498   73.744543  \n",
       "2    105142687.0  93.984165  111.684020  \n",
       "3     68344639.0  83.733747   72.596623  \n",
       "4     81952264.0  89.722257   87.050831  \n",
       "..           ...        ...         ...  \n",
       "145  137839883.0  95.247101  146.415435  \n",
       "146  160868032.0  96.738281  147.396034  \n",
       "147   68873651.0  73.842601   63.105782  \n",
       "148  119791015.0  93.710128  109.759039  \n",
       "149  119706508.0  91.541311  109.681609  \n",
       "\n",
       "[150 rows x 34 columns]"
      ]
     },
     "execution_count": 17,
     "metadata": {},
     "output_type": "execute_result"
    }
   ],
   "source": [
    "# load the cleaned data\n",
    "\n",
    "NBA = pd.read_csv('NBA.csv')\n",
    "NBA"
   ]
  },
  {
   "cell_type": "code",
   "execution_count": 18,
   "metadata": {},
   "outputs": [],
   "source": [
    "# create the dependent variable, this wins column because we are trying to predict win totals\n",
    "NBA_y = NBA['Wins']"
   ]
  },
  {
   "cell_type": "code",
   "execution_count": 19,
   "metadata": {},
   "outputs": [],
   "source": [
    "# create the independent variable by removing the dependent variable and other description features\n",
    "\n",
    "NBA_X = NBA.drop(columns=['Team', 'Wins','Season','Row ID'])"
   ]
  },
  {
   "cell_type": "code",
   "execution_count": 20,
   "metadata": {},
   "outputs": [],
   "source": [
    "# split into a training and testing data sets.\n",
    "# being sure to keep the test set away from the training data to not influence model development\n",
    "\n",
    "X_train, X_test, y_train, y_test = train_test_split(NBA_X, NBA_y, test_size=0.2, random_state=15)"
   ]
  },
  {
   "cell_type": "code",
   "execution_count": 24,
   "metadata": {},
   "outputs": [],
   "source": [
    "#standardize the data so they are all in the same format\n",
    "\n",
    "#assign the standard scaler to a variable\n",
    "scaler = preprocessing.StandardScaler()\n",
    "\n",
    "#fit the scaler ON ONLY THE TRAINING SET\n",
    "scaler.fit(X_train)\n",
    "\n",
    "# process both the independent and dependent data through the standard scaler\n",
    "# assigning them to new variables\n",
    "X_train_scaled = scaler.transform(X_train)\n",
    "X_test_scaled = scaler.transform(X_test)"
   ]
  },
  {
   "cell_type": "code",
   "execution_count": 25,
   "metadata": {},
   "outputs": [
    {
     "name": "stdout",
     "output_type": "stream",
     "text": [
      "std :  0.1 not std :  1.0\n"
     ]
    }
   ],
   "source": [
    "#first model selection is ridge. Ridge should work better than linearReg and Lasso due \n",
    "#to the colinearity of features\n",
    "\n",
    "# I am using ridge cv so the alpha is optimized on it's own\n",
    "\n",
    "#standardized\n",
    "ridge_std = linear_model.RidgeCV()\n",
    "model_ridge_std = ridge_std.fit(X_train_scaled, y_train)\n",
    "ridge_coef = ridge_std.fit(X_train_scaled, y_train).coef_\n",
    "\n",
    "#NOT standardized\n",
    "ridge = linear_model.RidgeCV()\n",
    "model_ridge = ridge.fit(X_train, y_train)\n",
    "print('std : ', model_ridge_std.alpha_, 'not std : ',model_ridge.alpha_)"
   ]
  },
  {
   "cell_type": "markdown",
   "metadata": {},
   "source": [
    "As alpha increases model complexity reduces."
   ]
  },
  {
   "cell_type": "code",
   "execution_count": 26,
   "metadata": {},
   "outputs": [
    {
     "data": {
      "text/plain": [
       "(0.40971238841569213, -100.04128435970249)"
      ]
     },
     "execution_count": 26,
     "metadata": {},
     "output_type": "execute_result"
    }
   ],
   "source": [
    "# comparing models\n",
    "# .score provides the R squared. best result would be 1.0\n",
    "model_ridge_std.score(X_train_scaled, y_train), model_ridge.score(X_train, y_train)"
   ]
  },
  {
   "cell_type": "code",
   "execution_count": 27,
   "metadata": {},
   "outputs": [],
   "source": [
    "#the standardized model was WOW-ZERS BETTER, still not great"
   ]
  },
  {
   "cell_type": "code",
   "execution_count": 28,
   "metadata": {},
   "outputs": [],
   "source": [
    "#continuing with just standardized\n",
    "\n",
    "y_predRIDGE = model_ridge_std.predict(X_test_scaled)\n",
    "win_predict_ridge = y_predRIDGE-y_test"
   ]
  },
  {
   "cell_type": "code",
   "execution_count": 29,
   "metadata": {},
   "outputs": [
    {
     "data": {
      "text/plain": [
       "count    30.000000\n",
       "mean      0.091774\n",
       "std       0.070588\n",
       "min       0.002999\n",
       "25%       0.047668\n",
       "50%       0.071564\n",
       "75%       0.137575\n",
       "max       0.250479\n",
       "Name: Wins, dtype: float64"
      ]
     },
     "execution_count": 29,
     "metadata": {},
     "output_type": "execute_result"
    }
   ],
   "source": [
    "# this it the difference in win percent prediction and real wins for those teams\n",
    "# taking the absolute value because the amount of error is directionless\n",
    "win_predict_ridge = abs(win_predict_ridge)\n",
    "\n",
    "win_predict_ridge\n",
    "\n",
    "win_predict_ridge.describe()"
   ]
  },
  {
   "cell_type": "code",
   "execution_count": 32,
   "metadata": {},
   "outputs": [],
   "source": [
    "# trying a different type of scaling\n",
    "\n",
    "min_max_scaler = preprocessing.MinMaxScaler()\n",
    "min_max_scaler.fit(X_train)\n",
    "X_train_mms = min_max_scaler.transform(X_train)\n",
    "X_test_mms = min_max_scaler.transform(X_test)"
   ]
  },
  {
   "cell_type": "code",
   "execution_count": 33,
   "metadata": {},
   "outputs": [
    {
     "name": "stdout",
     "output_type": "stream",
     "text": [
      "min max std :  0.1\n"
     ]
    }
   ],
   "source": [
    "#min max std\n",
    "mms_ridge = linear_model.RidgeCV()\n",
    "mms_ridge_model = mms_ridge.fit(X_train_mms, y_train)\n",
    "\n",
    "#NOT standardized is the same so do nothing new\n",
    "\n",
    "print('min max std : ', mms_ridge_model.alpha_)"
   ]
  },
  {
   "cell_type": "code",
   "execution_count": 34,
   "metadata": {},
   "outputs": [
    {
     "data": {
      "text/plain": [
       "(0.40971238841569213, 0.3368239173740363)"
      ]
     },
     "execution_count": 34,
     "metadata": {},
     "output_type": "execute_result"
    }
   ],
   "source": [
    "#comparing models\n",
    "model_ridge_std.score(X_train_scaled, y_train), mms_ridge_model.score(X_train_mms, y_train)"
   ]
  },
  {
   "cell_type": "code",
   "execution_count": 35,
   "metadata": {},
   "outputs": [],
   "source": [
    "#lets try power transformer\n",
    "power = preprocessing.PowerTransformer(method='box-cox')\n",
    "power.fit(X_train)\n",
    "X_train_power = power.transform(X_train)\n",
    "X_test_power = power.transform(X_test)"
   ]
  },
  {
   "cell_type": "code",
   "execution_count": 36,
   "metadata": {},
   "outputs": [],
   "source": [
    "#power\n",
    "ridge_power = linear_model.RidgeCV()\n",
    "model_ridge_power = ridge_power.fit(X_train_power, y_train)"
   ]
  },
  {
   "cell_type": "code",
   "execution_count": 37,
   "metadata": {},
   "outputs": [
    {
     "data": {
      "text/plain": [
       "0.3111808547718258"
      ]
     },
     "execution_count": 37,
     "metadata": {},
     "output_type": "execute_result"
    }
   ],
   "source": [
    "#comparing standardizer\n",
    "model_ridge_power.score(X_train_power, y_train)"
   ]
  },
  {
   "cell_type": "code",
   "execution_count": 38,
   "metadata": {},
   "outputs": [],
   "source": [
    "#the standardscaler did better than the min max scaler and the power transformer"
   ]
  },
  {
   "cell_type": "code",
   "execution_count": 39,
   "metadata": {},
   "outputs": [
    {
     "data": {
      "text/plain": [
       "0.25389945197408603"
      ]
     },
     "execution_count": 39,
     "metadata": {},
     "output_type": "execute_result"
    }
   ],
   "source": [
    "#let's test lasso\n",
    "names = NBA.drop(['Team', 'Wins','Season','Row ID'], axis=1).columns\n",
    "lasso = linear_model.LassoCV(max_iter=200000)\n",
    "model_lasso = lasso.fit(X_train_scaled, y_train)\n",
    "lasso_coef = lasso.fit(X_train_scaled, y_train).coef_\n",
    "model_lasso.score(X_train_scaled, y_train)"
   ]
  },
  {
   "cell_type": "code",
   "execution_count": 40,
   "metadata": {},
   "outputs": [
    {
     "data": {
      "text/plain": [
       "0.009959047821398805"
      ]
     },
     "execution_count": 40,
     "metadata": {},
     "output_type": "execute_result"
    }
   ],
   "source": [
    "model_lasso.alpha_"
   ]
  },
  {
   "cell_type": "code",
   "execution_count": 41,
   "metadata": {},
   "outputs": [],
   "source": [
    "#like expected lasso was worse"
   ]
  },
  {
   "cell_type": "code",
   "execution_count": 43,
   "metadata": {},
   "outputs": [
    {
     "data": {
      "image/png": "[encoded data removed]",
      "text/plain": [
       "<Figure size 720x576 with 1 Axes>"
      ]
     },
     "metadata": {
      "needs_background": "light"
     },
     "output_type": "display_data"
    }
   ],
   "source": [
    "# what features is lasso prioritizing\n",
    "\n",
    "_ = plt.figure(figsize=(10, 8))\n",
    "_ = plt.plot(range(len(names)), lasso_coef)\n",
    "_ = plt.xticks(range(len(names)), names, rotation=60)\n",
    "_ = plt.ylabel('coef')\n",
    "plt.savefig('NBA lasso.png')\n",
    "plt.show()"
   ]
  },
  {
   "cell_type": "code",
   "execution_count": 44,
   "metadata": {},
   "outputs": [
    {
     "data": {
      "image/png": "[encoded data removed]",
      "text/plain": [
       "<Figure size 432x288 with 1 Axes>"
      ]
     },
     "metadata": {
      "needs_background": "light"
     },
     "output_type": "display_data"
    }
   ],
   "source": [
    "# what features does ridge like\n",
    "_ = plt.plot(range(len(names)), ridge_coef)\n",
    "_ = plt.xticks(range(len(names)), names, rotation=60)\n",
    "_ = plt.ylabel('coef')\n",
    "_ = plt.grid()\n",
    "plt.savefig('NBA ridge.png')\n",
    "plt.show()"
   ]
  },
  {
   "cell_type": "code",
   "execution_count": 45,
   "metadata": {},
   "outputs": [],
   "source": [
    "# testing linear regression.\n",
    "\n",
    "lr = linear_model.LinearRegression()"
   ]
  },
  {
   "cell_type": "code",
   "execution_count": 46,
   "metadata": {},
   "outputs": [
    {
     "data": {
      "text/plain": [
       "0.5201432823399867"
      ]
     },
     "execution_count": 46,
     "metadata": {},
     "output_type": "execute_result"
    }
   ],
   "source": [
    "# again fit to standard scaler\n",
    "\n",
    "lr.fit(X_train_scaled, y_train)\n",
    "lr.score(X_train_scaled, y_train)"
   ]
  },
  {
   "cell_type": "code",
   "execution_count": 47,
   "metadata": {},
   "outputs": [],
   "source": [
    "# r2 for linear is better, however r2 isnt the whole story"
   ]
  },
  {
   "cell_type": "code",
   "execution_count": 48,
   "metadata": {},
   "outputs": [
    {
     "data": {
      "text/plain": [
       "count    30.000000\n",
       "mean      0.101100\n",
       "std       0.066832\n",
       "min       0.001786\n",
       "25%       0.058680\n",
       "50%       0.084225\n",
       "75%       0.150300\n",
       "max       0.245342\n",
       "Name: Wins, dtype: float64"
      ]
     },
     "execution_count": 48,
     "metadata": {},
     "output_type": "execute_result"
    }
   ],
   "source": [
    "# generating linear regression predictions\n",
    "LR_y_pred = lr.predict(X_test_scaled)\n",
    "\n",
    "# difference between predictions and reality\n",
    "linear_pred = LR_y_pred-y_test\n",
    "\n",
    "# checking results\n",
    "LR_win_abs = abs(linear_pred)\n",
    "LR_win_abs.describe()"
   ]
  },
  {
   "cell_type": "code",
   "execution_count": 49,
   "metadata": {},
   "outputs": [
    {
     "data": {
      "text/plain": [
       "array([ -1.78604511,   0.07090616,   1.54607753,   0.26945415,\n",
       "        -0.59423035,   0.5707529 ,   6.32305045,   0.72745486,\n",
       "        -6.70854341,  -7.91303273,  -1.20387607,   8.9553451 ,\n",
       "         6.66340402,   0.88178073,  -7.76715918, -10.13975175,\n",
       "         0.6670328 ,   7.95607058,  10.09639181,  -0.56644508,\n",
       "        -7.08262499,  -5.4241858 ,   1.05024492,   1.30892382,\n",
       "        -2.37405527,  -2.142063  ,   8.3245718 ,   4.06596755,\n",
       "         1.03262594,  -6.78012384])"
      ]
     },
     "execution_count": 49,
     "metadata": {},
     "output_type": "execute_result"
    }
   ],
   "source": [
    "lr.coef_"
   ]
  },
  {
   "cell_type": "code",
   "execution_count": 50,
   "metadata": {},
   "outputs": [
    {
     "data": {
      "text/plain": [
       "array([0.52631807, 0.53475741, 0.51667728, 0.50412829, 0.5657766 ,\n",
       "       0.47649314, 0.53921253, 0.39915211, 0.54249176, 0.41990112,\n",
       "       0.62442579, 0.51356925, 0.58569071, 0.52846807, 0.5193004 ,\n",
       "       0.28304086, 0.36014721, 0.39217341, 0.34752123, 0.36187533,\n",
       "       0.58715181, 0.58384265, 0.43716972, 0.41000228, 0.67133323,\n",
       "       0.34452707, 0.47364894, 0.62034152, 0.51982675, 0.57491819])"
      ]
     },
     "execution_count": 50,
     "metadata": {},
     "output_type": "execute_result"
    }
   ],
   "source": [
    "LR_y_pred"
   ]
  },
  {
   "cell_type": "code",
   "execution_count": 51,
   "metadata": {},
   "outputs": [
    {
     "data": {
      "text/plain": [
       "0.014538732733911519"
      ]
     },
     "execution_count": 51,
     "metadata": {},
     "output_type": "execute_result"
    }
   ],
   "source": [
    "mean_squared_error(y_test, LR_y_pred)"
   ]
  },
  {
   "cell_type": "code",
   "execution_count": null,
   "metadata": {},
   "outputs": [],
   "source": []
  }
 ],
 "metadata": {
  "kernelspec": {
   "display_name": "Python 3 (ipykernel)",
   "language": "python",
   "name": "python3"
  },
  "language_info": {
   "codemirror_mode": {
    "name": "ipython",
    "version": 3
   },
   "file_extension": ".py",
   "mimetype": "text/x-python",
   "name": "python",
   "nbconvert_exporter": "python",
   "pygments_lexer": "ipython3",
   "version": "3.8.12"
  }
 },
 "nbformat": 4,
 "nbformat_minor": 4
}
