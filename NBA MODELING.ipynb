{
 "cells": [
  {
   "cell_type": "code",
   "execution_count": 1,
   "metadata": {},
   "outputs": [],
   "source": [
    "# import packages\n",
    "\n",
    "# pandas for dataframe manipulation\n",
    "import pandas as pd\n",
    "\n",
    "# numerical python for some math needs\n",
    "import numpy as np\n",
    "\n",
    "# matplot lib and seaborn are graphical representation\n",
    "import matplotlib.pyplot as plt\n",
    "import seaborn as sns \n",
    "\n",
    "# stats model is more statistical modeling\n",
    "import statsmodels.api as sm\n",
    "from statsmodels.graphics.api import abline_plot\n",
    "\n",
    "# sklearn packages for various modeling/ machine learning\n",
    "from sklearn.metrics import mean_squared_error, r2_score\n",
    "from sklearn.model_selection import train_test_split\n",
    "from sklearn import linear_model, preprocessing\n",
    "from sklearn.decomposition import PCA\n",
    "from sklearn.ensemble import RandomForestRegressor"
   ]
  },
  {
   "cell_type": "code",
   "execution_count": 2,
   "metadata": {},
   "outputs": [],
   "source": [
    "# load the cleaned data\n",
    "NBA = pd.read_csv('NBA.csv')"
   ]
  },
  {
   "cell_type": "code",
   "execution_count": 3,
   "metadata": {},
   "outputs": [],
   "source": [
    "# create the dependent variable, this wins column because we are trying to predict win totals\n",
    "NBA_y = NBA['Wins']"
   ]
  },
  {
   "cell_type": "code",
   "execution_count": 4,
   "metadata": {},
   "outputs": [],
   "source": [
    "# create the independent variable by removing the dependent variable and other description features\n",
    "NBA_X = NBA.drop(columns=['Team', 'Wins','Season','Row ID'])"
   ]
  },
  {
   "cell_type": "code",
   "execution_count": 5,
   "metadata": {},
   "outputs": [],
   "source": [
    "# split into a training and testing data sets.\n",
    "# being sure to keep the test set away from the training data to not influence model development\n",
    "X_train, X_test, y_train, y_test = train_test_split(NBA_X, NBA_y, test_size=0.2, random_state=15)"
   ]
  },
  {
   "cell_type": "code",
   "execution_count": 6,
   "metadata": {},
   "outputs": [],
   "source": [
    "#standardize the data so they are all in the same format\n",
    "\n",
    "#assign the standard scaler to a variable\n",
    "scaler = preprocessing.StandardScaler()\n",
    "\n",
    "#fit the scaler ON ONLY THE TRAINING SET\n",
    "scaler.fit(X_train)\n",
    "\n",
    "# process both the independent and dependent data through the standard scaler\n",
    "# assigning them to new variables\n",
    "X_train_scaled = scaler.transform(X_train)\n",
    "X_test_scaled = scaler.transform(X_test)"
   ]
  },
  {
   "cell_type": "code",
   "execution_count": 7,
   "metadata": {},
   "outputs": [],
   "source": [
    "#first model selection is ridge. Ridge should work better than linearReg and Lasso due \n",
    "#to the colinearity of features\n",
    "\n",
    "# I am using ridge cv so the alpha is optimized on it's own\n",
    "\n",
    "#standardized\n",
    "ridge_std = linear_model.RidgeCV()\n",
    "model_ridge_std = ridge_std.fit(X_train_scaled, y_train)\n",
    "ridge_coef = ridge_std.fit(X_train_scaled, y_train).coef_"
   ]
  },
  {
   "cell_type": "code",
   "execution_count": 8,
   "metadata": {},
   "outputs": [],
   "source": [
    "# evaluating ridgeCV\n",
    "y_predRIDGE = model_ridge_std.predict(X_test_scaled)\n",
    "win_predict_ridge = y_predRIDGE-y_test"
   ]
  },
  {
   "cell_type": "code",
   "execution_count": 9,
   "metadata": {},
   "outputs": [],
   "source": [
    "# this it the difference in win percent prediction and real wins for those teams\n",
    "win_predict_ridge_abs = abs(win_predict_ridge)\n",
    "\n"
   ]
  },
  {
   "cell_type": "code",
   "execution_count": 10,
   "metadata": {},
   "outputs": [
    {
     "data": {
      "text/plain": [
       "48     0.250479\n",
       "98     0.244949\n",
       "97     0.235654\n",
       "112    0.173281\n",
       "74     0.166243\n",
       "Name: Wins, dtype: float64"
      ]
     },
     "execution_count": 10,
     "metadata": {},
     "output_type": "execute_result"
    }
   ],
   "source": [
    "# what are the worst predictions\n",
    "win_predict_ridge_abs.nlargest(5)"
   ]
  },
  {
   "cell_type": "markdown",
   "metadata": {},
   "source": [
    "a few of these are really off."
   ]
  },
  {
   "cell_type": "markdown",
   "metadata": {},
   "source": [
    "#### The real wins are in \n",
    "y_test\n",
    "\n",
    "##### Ridge1 predictions\n",
    "y_predRIDGE\n",
    "\n",
    "#### Difference in predictions\n",
    "win_predict_ridge, win_predict_ridge_abs"
   ]
  },
  {
   "cell_type": "code",
   "execution_count": 11,
   "metadata": {},
   "outputs": [
    {
     "data": {
      "text/plain": [
       "Season              2017-18\n",
       "Row ID                   18\n",
       "Team      Charlotte Hornets\n",
       "Wins               0.439024\n",
       "1 TS             23500000.0\n",
       "1% TS             20.046377\n",
       "1% SC             23.715096\n",
       "2 TS             45934783.0\n",
       "2% TS             39.184085\n",
       "2% SC             46.355225\n",
       "3 TS             59103533.0\n",
       "3% TS              50.41752\n",
       "3% SC             59.644509\n",
       "4 TS             72103533.0\n",
       "4% TS             61.507005\n",
       "4% SC             72.763498\n",
       "5 TS             84687803.0\n",
       "5% TS             72.241857\n",
       "5% SC             85.462952\n",
       "6 TS             96687803.0\n",
       "6% TS             82.478305\n",
       "6% SC             97.572788\n",
       "7 TS            103687803.0\n",
       "7% TS             88.449567\n",
       "7% SC            104.636859\n",
       "8 TS            106592283.0\n",
       "8% TS             90.927196\n",
       "8% SC            107.567924\n",
       "9 TS            109439883.0\n",
       "9% TS             93.356306\n",
       "9% SC            110.441588\n",
       "10 TS           112139883.0\n",
       "10% TS            95.659506\n",
       "10% SC           113.166301\n",
       "Name: 48, dtype: object"
      ]
     },
     "execution_count": 11,
     "metadata": {},
     "output_type": "execute_result"
    }
   ],
   "source": [
    "# examining why results were so bad\n",
    "NBA.iloc[48]"
   ]
  },
  {
   "cell_type": "markdown",
   "metadata": {},
   "source": [
    "this prediction was .25 percent off. that is 20 wins. \n",
    "\n",
    "the 2017 charlotte hornets were the kemba walker non-max, dwight howard at 23m \n",
    "and nicholas batum at 22m. \n",
    "\n",
    "they were not good. they missed the playoffs. \n",
    "\n",
    "those players definitely did not play to the level of their contract. \n",
    "this model predicted 56 wins\n",
    "\n",
    "y_pred 0.68950348 y_test 0.439024"
   ]
  },
  {
   "cell_type": "code",
   "execution_count": 12,
   "metadata": {},
   "outputs": [
    {
     "data": {
      "text/plain": [
       "Season              2018-19\n",
       "Row ID                   14\n",
       "Team      Memphis Grizzlies\n",
       "Wins               0.402439\n",
       "1 TS             30521116.0\n",
       "1% TS             24.440927\n",
       "1% SC             29.961142\n",
       "2 TS             54628374.0\n",
       "2% TS             43.745717\n",
       "2% SC             53.626102\n",
       "3 TS             71167700.0\n",
       "3% TS             56.990202\n",
       "3% SC              69.86198\n",
       "4 TS             83167700.0\n",
       "4% TS             66.599652\n",
       "4% SC             81.641814\n",
       "5 TS             91808700.0\n",
       "5% TS             73.519256\n",
       "5% SC             90.124277\n",
       "6 TS            100142033.0\n",
       "6% TS             80.192485\n",
       "6% SC             98.304718\n",
       "7 TS            106057073.0\n",
       "7% TS             84.929175\n",
       "7% SC            104.111234\n",
       "8 TS            110441689.0\n",
       "8% TS             88.440321\n",
       "8% SC            108.415405\n",
       "9 TS            112978587.0\n",
       "9% TS             90.471837\n",
       "9% SC            110.905758\n",
       "10 TS           115154847.0\n",
       "10% TS            92.214558\n",
       "10% SC            113.04209\n",
       "Name: 74, dtype: object"
      ]
     },
     "execution_count": 12,
     "metadata": {},
     "output_type": "execute_result"
    }
   ],
   "source": [
    "NBA.iloc[74]"
   ]
  },
  {
   "cell_type": "markdown",
   "metadata": {},
   "source": [
    "Just an aging team that traded their players away<br>\n",
    "I would not have guessed they would win 48 (0.5856) wins however I would have guessed... something like 44\n",
    "this one is just wrong<br>\n",
    "y_pred 0.58569071 y_test 0.40"
   ]
  },
  {
   "cell_type": "code",
   "execution_count": 13,
   "metadata": {},
   "outputs": [
    {
     "data": {
      "text/plain": [
       "Season            2019-20\n",
       "Row ID                 22\n",
       "Team      Detroit Pistons\n",
       "Wins                0.303\n",
       "1 TS           34234964.0\n",
       "1% TS           26.092286\n",
       "1% SC           31.367935\n",
       "2 TS           51521920.0\n",
       "2% TS           39.267594\n",
       "2% SC           47.207183\n",
       "3 TS           67165670.0\n",
       "3% TS           51.190528\n",
       "3% SC           61.540837\n",
       "4 TS           78558527.0\n",
       "4% TS            59.87363\n",
       "4% SC           71.979592\n",
       "5 TS           88290923.0\n",
       "5% TS           67.291206\n",
       "5% SC           80.896942\n",
       "6 TS           95624256.0\n",
       "6% TS           72.880329\n",
       "6% SC           87.616141\n",
       "7 TS          102941329.0\n",
       "7% TS           78.457059\n",
       "7% SC           94.320441\n",
       "8 TS          108273058.0\n",
       "8% TS           82.520654\n",
       "8% SC           99.205661\n",
       "9 TS          112100218.0\n",
       "9% TS           85.437536\n",
       "9% SC          102.712313\n",
       "10 TS         115669861.0\n",
       "10% TS           88.15815\n",
       "10% SC         105.983014\n",
       "Name: 112, dtype: object"
      ]
     },
     "execution_count": 13,
     "metadata": {},
     "output_type": "execute_result"
    }
   ],
   "source": [
    "NBA.iloc[112]"
   ]
  },
  {
   "cell_type": "markdown",
   "metadata": {},
   "source": [
    "The 2019-20 Detroit Pistons. Not a good team. The highest salary on their books was a contract buy-out.\n",
    "\n",
    "That is something to note for future model considerations"
   ]
  },
  {
   "cell_type": "code",
   "execution_count": 14,
   "metadata": {},
   "outputs": [
    {
     "data": {
      "text/plain": [
       "Season               2019-20\n",
       "Row ID                     7\n",
       "Team      Los Angeles Lakers\n",
       "Wins                   0.732\n",
       "1 TS              37436858.0\n",
       "1% TS                29.8459\n",
       "1% SC              34.301684\n",
       "2 TS              64529877.0\n",
       "2% TS               51.44535\n",
       "2% SC              59.125781\n",
       "3 TS              79164023.0\n",
       "3% TS              63.112174\n",
       "3% SC              72.534381\n",
       "4 TS              87253305.0\n",
       "4% TS              69.561217\n",
       "4% SC               79.94622\n",
       "5 TS              92253305.0\n",
       "5% TS              73.547382\n",
       "5% SC              84.527492\n",
       "6 TS              97020305.0\n",
       "6% TS              77.347792\n",
       "6% SC              88.895277\n",
       "7 TS             101020305.0\n",
       "7% TS              80.536724\n",
       "7% SC              92.560294\n",
       "8 TS             104520305.0\n",
       "8% TS               83.32704\n",
       "8% SC              95.767184\n",
       "9 TS             107520305.0\n",
       "9% TS              85.718739\n",
       "9% SC              98.515947\n",
       "10 TS            110270305.0\n",
       "10% TS              87.91113\n",
       "10% SC            101.035647\n",
       "Name: 97, dtype: object"
      ]
     },
     "execution_count": 14,
     "metadata": {},
     "output_type": "execute_result"
    }
   ],
   "source": [
    "NBA.iloc[97]"
   ]
  },
  {
   "cell_type": "markdown",
   "metadata": {},
   "source": [
    "this is the 2019-20 champion lakers 1 seed in the west.<br>\n",
    "they went 52-19 in the pandemic shortened season<br>\n",
    "salary stuff for this team. lebron makes 37m and anthony davis makes 27m<br>\n",
    "this model really didn't like this team predicting sub .500. not sure why.\n",
    "\n",
    "y_pred was 0.49634586 y_true was 0.732000"
   ]
  },
  {
   "cell_type": "code",
   "execution_count": 15,
   "metadata": {},
   "outputs": [
    {
     "data": {
      "text/plain": [
       "Season                  2019-20\n",
       "Row ID                        8\n",
       "Team      Golden State Warriors\n",
       "Wins                      0.231\n",
       "1 TS                 40231758.0\n",
       "1% TS                 30.587996\n",
       "1% SC                 36.862523\n",
       "2 TS                 72973758.0\n",
       "2% TS                 55.481568\n",
       "2% SC                 66.862523\n",
       "3 TS                100478388.0\n",
       "3% TS                 76.393195\n",
       "3% SC                  92.06376\n",
       "4 TS                119017518.0\n",
       "4% TS                 90.488399\n",
       "4% SC                109.050319\n",
       "5 TS                123481804.0\n",
       "5% TS                 93.882572\n",
       "5% SC                 113.14074\n",
       "6 TS                125446564.0\n",
       "6% TS                 95.376369\n",
       "6% SC                 114.94096\n",
       "7 TS                126859836.0\n",
       "7% TS                 96.450872\n",
       "7% SC                116.235877\n",
       "8 TS                127758146.0\n",
       "8% TS                 97.133853\n",
       "8% SC                117.058957\n",
       "9 TS                128656456.0\n",
       "9% TS                 97.816833\n",
       "9% SC                117.882038\n",
       "10 TS               129498783.0\n",
       "10% TS                 98.45725\n",
       "10% SC               118.653824\n",
       "Name: 98, dtype: object"
      ]
     },
     "execution_count": 15,
     "metadata": {},
     "output_type": "execute_result"
    }
   ],
   "source": [
    "NBA.iloc[98]"
   ]
  },
  {
   "cell_type": "markdown",
   "metadata": {},
   "source": [
    "The pandemic season warriors were super injured. <br>\n",
    "Stephen curry 40m injured klay thompson 32m injured full season<br>\n",
    "y_pred 0.47594878 y_test 0.231000<br>\n",
    "This is the kind of model breaking team/season"
   ]
  },
  {
   "cell_type": "code",
   "execution_count": 16,
   "metadata": {},
   "outputs": [
    {
     "data": {
      "text/plain": [
       "count    30.000000\n",
       "mean      0.091774\n",
       "std       0.070588\n",
       "min       0.002999\n",
       "25%       0.047668\n",
       "50%       0.071564\n",
       "75%       0.137575\n",
       "max       0.250479\n",
       "Name: Wins, dtype: float64"
      ]
     },
     "execution_count": 16,
     "metadata": {},
     "output_type": "execute_result"
    }
   ],
   "source": [
    "# average of 8.2 wins off real.. 25% 3.9 wins off.. 50% 5.86 wins off\n",
    "# I would be happy with an average of 4 wins\n",
    "# correction! I checked some vegas odds for win predictions against outcomes\n",
    "# vegas was off by 5.3 wins for the 2020-21 season that is the mark to beat.\n",
    "\n",
    "abs_win = abs(win_predict_ridge)\n",
    "abs_win.describe()"
   ]
  },
  {
   "cell_type": "code",
   "execution_count": 17,
   "metadata": {},
   "outputs": [
    {
     "data": {
      "image/png": "[encoded data removed]",
      "text/plain": [
       "<Figure size 432x288 with 1 Axes>"
      ]
     },
     "metadata": {
      "needs_background": "light"
     },
     "output_type": "display_data"
    }
   ],
   "source": [
    "# plotting ridge predictions against real\n",
    "plt.scatter(y_test, y_predRIDGE)\n",
    "plt.ylabel('Predicted values')\n",
    "plt.xlabel('Real values')\n",
    "plt.xticks(np.arange(0.2,0.8,0.1))\n",
    "plt.yticks(np.arange(0.2,0.8,0.1))\n",
    "plt.show()"
   ]
  },
  {
   "cell_type": "code",
   "execution_count": 18,
   "metadata": {},
   "outputs": [
    {
     "data": {
      "text/plain": [
       "0.25389945197408603"
      ]
     },
     "execution_count": 18,
     "metadata": {},
     "output_type": "execute_result"
    }
   ],
   "source": [
    "#let's test lasso\n",
    "names = NBA.drop(['Team', 'Wins','Season','Row ID'], axis=1).columns\n",
    "lasso = linear_model.LassoCV(max_iter=200000)\n",
    "model_lasso = lasso.fit(X_train_scaled, y_train)\n",
    "lasso_coef = lasso.fit(X_train_scaled, y_train).coef_\n",
    "model_lasso.score(X_train_scaled, y_train)"
   ]
  },
  {
   "cell_type": "code",
   "execution_count": 19,
   "metadata": {},
   "outputs": [
    {
     "data": {
      "text/plain": [
       "0.009959047821398805"
      ]
     },
     "execution_count": 19,
     "metadata": {},
     "output_type": "execute_result"
    }
   ],
   "source": [
    "model_lasso.alpha_"
   ]
  },
  {
   "cell_type": "code",
   "execution_count": 20,
   "metadata": {},
   "outputs": [],
   "source": [
    "#like expected lasso has a worse r2\n",
    "y_pred_lasso = model_lasso.predict(X_test_scaled)\n",
    "win_predict_lasso = y_pred_lasso-y_test\n",
    "win_predict_lasso_abs = abs(win_predict_lasso)"
   ]
  },
  {
   "cell_type": "markdown",
   "metadata": {},
   "source": [
    "#### The real wins are in \n",
    "y_test\n",
    "##### Ridge1 predictions\n",
    "y_pred_lasso\n",
    "\n",
    "#### Difference in predictions\n",
    "win_predict_lasso, win_predict_lasso_abs\n"
   ]
  },
  {
   "cell_type": "code",
   "execution_count": 21,
   "metadata": {},
   "outputs": [
    {
     "data": {
      "text/plain": [
       "count    30.000000\n",
       "mean      0.094549\n",
       "std       0.079425\n",
       "min       0.005150\n",
       "25%       0.041987\n",
       "50%       0.067026\n",
       "75%       0.128896\n",
       "max       0.397170\n",
       "Name: Wins, dtype: float64"
      ]
     },
     "execution_count": 21,
     "metadata": {},
     "output_type": "execute_result"
    }
   ],
   "source": [
    "# lasso is better. I now the average is worse however the worst prediction, the super injured warriors \n",
    "# went up to 0.39 off from 0.25\n",
    "win_predict_lasso_abs.describe()"
   ]
  },
  {
   "cell_type": "code",
   "execution_count": 22,
   "metadata": {},
   "outputs": [
    {
     "data": {
      "text/plain": [
       "98     0.397170\n",
       "112    0.187322\n",
       "148    0.168414\n",
       "74     0.140257\n",
       "5      0.131896\n",
       "Name: Wins, dtype: float64"
      ]
     },
     "execution_count": 22,
     "metadata": {},
     "output_type": "execute_result"
    }
   ],
   "source": [
    "# worst lasso\n",
    "win_predict_lasso.nlargest(5)"
   ]
  },
  {
   "cell_type": "code",
   "execution_count": 23,
   "metadata": {},
   "outputs": [
    {
     "data": {
      "image/png": "[encoded data removed]",
      "text/plain": [
       "<Figure size 864x576 with 1 Axes>"
      ]
     },
     "metadata": {
      "needs_background": "light"
     },
     "output_type": "display_data"
    }
   ],
   "source": [
    "# comparing both models\n",
    "fig = plt.figure(figsize=(12,8))\n",
    "ax1 = fig.add_subplot()\n",
    "\n",
    "ax1.scatter(y_pred_lasso, y_test, s=50, c='b', marker=\"s\", label='lasso')\n",
    "ax1.scatter(y_predRIDGE, y_test, s=50, c='r', marker=\"o\", label='ridge')\n",
    "plt.legend(loc='upper left')\n",
    "plt.xlabel('Predicted values')\n",
    "plt.ylabel('Real values')\n",
    "plt.show()"
   ]
  },
  {
   "cell_type": "code",
   "execution_count": 24,
   "metadata": {},
   "outputs": [
    {
     "data": {
      "image/png": "[encoded data removed]",
      "text/plain": [
       "<Figure size 1152x576 with 1 Axes>"
      ]
     },
     "metadata": {
      "needs_background": "light"
     },
     "output_type": "display_data"
    }
   ],
   "source": [
    "# lasso will tell you the most influential variables\n",
    "_ = plt.figure(figsize=(16,8))\n",
    "_ = plt.plot(range(len(names)), lasso_coef)\n",
    "_ = plt.xticks(range(len(names)), names, rotation=60)\n",
    "_ = plt.ylabel('coef')\n",
    "plt.show()"
   ]
  },
  {
   "cell_type": "markdown",
   "metadata": {},
   "source": [
    "7 players percent of total salary, 7 players % salary cap, and 2 players Salary cap"
   ]
  },
  {
   "cell_type": "code",
   "execution_count": 25,
   "metadata": {},
   "outputs": [
    {
     "data": {
      "image/png": "[encoded data removed]",
      "text/plain": [
       "<Figure size 432x288 with 1 Axes>"
      ]
     },
     "metadata": {
      "needs_background": "light"
     },
     "output_type": "display_data"
    }
   ],
   "source": [
    "# let's see how the ridge proformed the weighting of features\n",
    "_ = plt.plot(range(len(names)), ridge_coef)\n",
    "_ = plt.xticks(range(len(names)), names, rotation=60)\n",
    "_ = plt.ylabel('coef')\n",
    "_ = plt.grid()\n",
    "plt.show()"
   ]
  },
  {
   "cell_type": "markdown",
   "metadata": {},
   "source": [
    "the favorite variable was also 7% total salary, however preferred 3 player total salary second and 10 Total salary"
   ]
  },
  {
   "cell_type": "code",
   "execution_count": 26,
   "metadata": {},
   "outputs": [],
   "source": [
    "# Linear Regression model\n",
    "lr = linear_model.LinearRegression()"
   ]
  },
  {
   "cell_type": "code",
   "execution_count": 27,
   "metadata": {},
   "outputs": [
    {
     "data": {
      "text/plain": [
       "0.5201432823399867"
      ]
     },
     "execution_count": 27,
     "metadata": {},
     "output_type": "execute_result"
    }
   ],
   "source": [
    "# again fit to standard scaler\n",
    "\n",
    "lr.fit(X_train_scaled, y_train)\n",
    "lr.score(X_train_scaled, y_train)"
   ]
  },
  {
   "cell_type": "markdown",
   "metadata": {},
   "source": [
    "This is a better r2 better than ridge cv"
   ]
  },
  {
   "cell_type": "code",
   "execution_count": 28,
   "metadata": {},
   "outputs": [],
   "source": [
    "# generating linear regression predictions\n",
    "LR_y_pred = lr.predict(X_test_scaled)\n",
    "\n",
    "# difference between predictions and reality\n",
    "linear_pred = LR_y_pred-y_test\n",
    "\n",
    "# checking results\n",
    "LR_win_abs = abs(linear_pred)"
   ]
  },
  {
   "cell_type": "markdown",
   "metadata": {},
   "source": [
    "The worst predictions came from 148, 48, 97, 74, 100\n",
    "We already know who 48 (charlotte hornets) and 97 (injured warriors)"
   ]
  },
  {
   "cell_type": "code",
   "execution_count": 29,
   "metadata": {},
   "outputs": [
    {
     "data": {
      "text/plain": [
       "Season            2020-21\n",
       "Row ID                 28\n",
       "Team      Toronto Raptors\n",
       "Wins                0.375\n",
       "1 TS           30559200.0\n",
       "1% TS           23.905854\n",
       "1% SC                28.0\n",
       "2 TS           61059200.0\n",
       "2% TS           47.765397\n",
       "2% SC           55.945758\n",
       "3 TS           82309200.0\n",
       "3% TS            64.38885\n",
       "3% SC           75.416163\n",
       "4 TS           92356650.0\n",
       "4% TS            72.24877\n",
       "4% SC           84.622183\n",
       "5 TS           99356650.0\n",
       "5% TS            77.72473\n",
       "5% SC           91.035963\n",
       "6 TS          105856650.0\n",
       "6% TS           82.809551\n",
       "6% SC           96.991616\n",
       "7 TS          109856650.0\n",
       "7% TS           85.938672\n",
       "7% SC          100.656634\n",
       "8 TS          113728865.0\n",
       "8% TS           88.967828\n",
       "8% SC          104.204568\n",
       "9 TS          117533015.0\n",
       "9% TS           91.943739\n",
       "9% SC          107.690137\n",
       "10 TS         119791015.0\n",
       "10% TS          93.710128\n",
       "10% SC         109.759039\n",
       "Name: 148, dtype: object"
      ]
     },
     "execution_count": 29,
     "metadata": {},
     "output_type": "execute_result"
    }
   ],
   "source": [
    "# who is 148. The pandemic 2020-21 Toronto raptors! this team played home games in tampa, Fl\n",
    "# so they wouldn't have to cross the border all the time. \n",
    "# y_pred 0.62034152  y_test 0.375\n",
    "NBA.iloc[148]"
   ]
  },
  {
   "cell_type": "code",
   "execution_count": 30,
   "metadata": {},
   "outputs": [
    {
     "data": {
      "text/plain": [
       "Season             2019-20\n",
       "Row ID                  10\n",
       "Team      Dallas Mavericks\n",
       "Wins                 0.573\n",
       "1 TS            27285000.0\n",
       "1% TS             22.34829\n",
       "1% SC                 25.0\n",
       "2 TS            45435000.0\n",
       "2% TS            37.214388\n",
       "2% SC            41.630016\n",
       "3 TS            58194670.0\n",
       "3% TS            47.665435\n",
       "3% SC             53.32112\n",
       "4 TS            68454045.0\n",
       "4% TS            56.068568\n",
       "4% SC            62.721317\n",
       "5 TS            77927729.0\n",
       "5% TS            63.828166\n",
       "5% SC            71.401621\n",
       "6 TS            85927729.0\n",
       "6% TS            70.380716\n",
       "6% SC            78.731656\n",
       "7 TS            93611089.0\n",
       "7% TS            76.673916\n",
       "7% SC            85.771568\n",
       "8 TS           101072469.0\n",
       "8% TS            82.785299\n",
       "8% SC             92.60809\n",
       "9 TS           105072469.0\n",
       "9% TS            86.061574\n",
       "9% SC            96.273107\n",
       "10 TS          108572469.0\n",
       "10% TS           88.928315\n",
       "10% SC           99.479997\n",
       "Name: 100, dtype: object"
      ]
     },
     "execution_count": 30,
     "metadata": {},
     "output_type": "execute_result"
    }
   ],
   "source": [
    "#Luka's Rookie season! ya this team definitely out performed their estimates\n",
    "# y_pred 0.39217341 (32 wins) y_test 0.573 (46 wins)\n",
    "NBA.iloc[100]"
   ]
  },
  {
   "cell_type": "code",
   "execution_count": 31,
   "metadata": {},
   "outputs": [
    {
     "data": {
      "text/plain": [
       "count    30.000000\n",
       "mean      0.101100\n",
       "std       0.066832\n",
       "min       0.001786\n",
       "25%       0.058680\n",
       "50%       0.084225\n",
       "75%       0.150300\n",
       "max       0.245342\n",
       "Name: Wins, dtype: float64"
      ]
     },
     "execution_count": 31,
     "metadata": {},
     "output_type": "execute_result"
    }
   ],
   "source": [
    "# let's explore how close it is\n",
    "# average of 8.2 wins off real.. 25% 4.8 wins off.. 50% 6.89 wins off\n",
    "# this was slightly worse.  this makes sense. Linear Regression is ridge regression was alpha = 0 \n",
    "\n",
    "LR_win_abs.describe()"
   ]
  },
  {
   "cell_type": "code",
   "execution_count": 32,
   "metadata": {},
   "outputs": [
    {
     "data": {
      "text/plain": [
       "0.013239120843559339"
      ]
     },
     "execution_count": 32,
     "metadata": {},
     "output_type": "execute_result"
    }
   ],
   "source": [
    "# mean squared error for ridge cv\n",
    "mean_squared_error(y_test, y_predRIDGE)"
   ]
  },
  {
   "cell_type": "code",
   "execution_count": 33,
   "metadata": {},
   "outputs": [
    {
     "data": {
      "text/plain": [
       "0.014538732733911519"
      ]
     },
     "execution_count": 33,
     "metadata": {},
     "output_type": "execute_result"
    }
   ],
   "source": [
    "# mean squared error for linear regression\n",
    "mean_squared_error(y_test, LR_y_pred)"
   ]
  },
  {
   "cell_type": "markdown",
   "metadata": {},
   "source": [
    "The mean squared error is consistant that ridge was better than linear Reg"
   ]
  },
  {
   "cell_type": "code",
   "execution_count": 34,
   "metadata": {},
   "outputs": [
    {
     "data": {
      "image/png": "[encoded data removed]",
      "text/plain": [
       "<Figure size 432x288 with 1 Axes>"
      ]
     },
     "metadata": {
      "needs_background": "light"
     },
     "output_type": "display_data"
    }
   ],
   "source": [
    "# checking some decomp\n",
    "pca = PCA()\n",
    "pca.fit(X_train_scaled)\n",
    "features = range(pca.n_components_)\n",
    "plt.bar(features, pca.explained_variance_)\n",
    "plt.xticks(features)\n",
    "plt.ylabel('variance')\n",
    "plt.xlabel('pca features')\n",
    "plt.show()"
   ]
  },
  {
   "cell_type": "code",
   "execution_count": 35,
   "metadata": {},
   "outputs": [],
   "source": [
    "#this agrees with lasso that only 3 features are meaningful; \n",
    "#get 2 great players and then also spend most of your money on the top 7"
   ]
  },
  {
   "cell_type": "code",
   "execution_count": 36,
   "metadata": {},
   "outputs": [
    {
     "name": "stdout",
     "output_type": "stream",
     "text": [
      "what's my alpha! :  2.4999999999999996\n"
     ]
    }
   ],
   "source": [
    "# before I head over to the next type of model\n",
    "# let's see if we can make ridgecv even better.  Ridge cv does automate some hyperparameter tuning already.\n",
    "\n",
    "# new ridge default scoring is neg_mean_absolute_error\n",
    "ridge_2 = linear_model.RidgeCV(alphas = np.arange(0.5, 10, 0.1), scoring='r2') \n",
    "model_ridge_2 = ridge_2.fit(X_train_scaled, y_train)\n",
    "ridge_2_coef = ridge_std.fit(X_train_scaled, y_train).coef_\n",
    "\n",
    "print(\"what's my alpha! : \", model_ridge_2.alpha_)"
   ]
  },
  {
   "cell_type": "code",
   "execution_count": 37,
   "metadata": {},
   "outputs": [
    {
     "data": {
      "text/plain": [
       "6      0.035796\n",
       "61     0.104738\n",
       "90     0.072953\n",
       "30     0.108227\n",
       "31     0.078985\n",
       "55     0.109768\n",
       "109    0.016494\n",
       "98     0.289683\n",
       "59     0.127753\n",
       "103    0.025886\n",
       "126    0.059496\n",
       "97     0.233223\n",
       "74     0.163378\n",
       "67     0.061959\n",
       "115    0.042112\n",
       "25     0.023222\n",
       "95     0.031110\n",
       "100    0.125315\n",
       "9      0.023914\n",
       "129    0.042379\n",
       "71     0.039865\n",
       "47     0.062209\n",
       "86     0.060020\n",
       "57     0.071577\n",
       "48     0.198035\n",
       "5      0.082451\n",
       "112    0.173172\n",
       "148    0.139512\n",
       "122    0.011773\n",
       "78     0.083526\n",
       "Name: Wins, dtype: float64"
      ]
     },
     "execution_count": 37,
     "metadata": {},
     "output_type": "execute_result"
    }
   ],
   "source": [
    "#check how it is doing with the new BIG alpha \n",
    "\n",
    "y_predRIDGE_2 = model_ridge_2.predict(X_test_scaled)\n",
    "win_predict_ridge_2 = y_predRIDGE_2-y_test\n",
    "win_predict_ridge_2 = abs(win_predict_ridge_2)\n",
    "win_predict_ridge_2"
   ]
  },
  {
   "cell_type": "code",
   "execution_count": 38,
   "metadata": {},
   "outputs": [
    {
     "data": {
      "text/plain": [
       "0.33561057752207635"
      ]
     },
     "execution_count": 38,
     "metadata": {},
     "output_type": "execute_result"
    }
   ],
   "source": [
    "# r2 is worse...\n",
    "model_ridge_2.score(X_train_scaled, y_train)"
   ]
  },
  {
   "cell_type": "code",
   "execution_count": 39,
   "metadata": {},
   "outputs": [
    {
     "data": {
      "text/plain": [
       "(count    30.000000\n",
       " mean      0.089951\n",
       " std       0.067620\n",
       " min       0.011773\n",
       " 25%       0.040427\n",
       " 50%       0.072265\n",
       " 75%       0.121428\n",
       " max       0.289683\n",
       " Name: Wins, dtype: float64,\n",
       " count    30.000000\n",
       " mean      0.091774\n",
       " std       0.070588\n",
       " min       0.002999\n",
       " 25%       0.047668\n",
       " 50%       0.071564\n",
       " 75%       0.137575\n",
       " max       0.250479\n",
       " Name: Wins, dtype: float64)"
      ]
     },
     "execution_count": 39,
     "metadata": {},
     "output_type": "execute_result"
    }
   ],
   "source": [
    "# but predictions are better on average\n",
    "win_predict_ridge_2.describe(), abs_win.describe()"
   ]
  },
  {
   "cell_type": "markdown",
   "metadata": {},
   "source": [
    "the ridge model really likes an alpha near zero. however if you remove that as an option alpha = 2.5 gets better predictions"
   ]
  },
  {
   "cell_type": "code",
   "execution_count": 40,
   "metadata": {},
   "outputs": [
    {
     "data": {
      "text/plain": [
       "0.2538542355410863"
      ]
     },
     "execution_count": 40,
     "metadata": {},
     "output_type": "execute_result"
    }
   ],
   "source": [
    "#let's test lasso with newer alphas\n",
    "\n",
    "lasso_2 = linear_model.LassoCV(max_iter=200000, alphas=np.arange(0.001,3,0.001))\n",
    "model_lasso_2 = lasso_2.fit(X_train_scaled, y_train)\n",
    "lasso_coef_2 = lasso_2.fit(X_train_scaled, y_train).coef_\n",
    "model_lasso_2.score(X_train_scaled, y_train)\n"
   ]
  },
  {
   "cell_type": "markdown",
   "metadata": {},
   "source": [
    "That is a nicer score"
   ]
  },
  {
   "cell_type": "code",
   "execution_count": 41,
   "metadata": {},
   "outputs": [
    {
     "data": {
      "text/plain": [
       "0.010000000000000002"
      ]
     },
     "execution_count": 41,
     "metadata": {},
     "output_type": "execute_result"
    }
   ],
   "source": [
    "model_lasso_2.alpha_"
   ]
  },
  {
   "cell_type": "code",
   "execution_count": 42,
   "metadata": {},
   "outputs": [
    {
     "data": {
      "text/plain": [
       "6      0.064097\n",
       "61     0.112199\n",
       "90     0.055972\n",
       "30     0.102904\n",
       "31     0.067843\n",
       "55     0.142587\n",
       "109    0.034131\n",
       "98     0.397082\n",
       "59     0.139977\n",
       "103    0.050742\n",
       "126    0.068366\n",
       "97     0.228586\n",
       "74     0.140230\n",
       "67     0.053805\n",
       "115    0.005211\n",
       "25     0.032369\n",
       "95     0.028727\n",
       "100    0.108098\n",
       "9      0.006608\n",
       "129    0.045866\n",
       "71     0.066212\n",
       "47     0.042899\n",
       "86     0.039431\n",
       "57     0.115366\n",
       "48     0.119869\n",
       "5      0.131959\n",
       "112    0.187329\n",
       "148    0.168383\n",
       "122    0.038288\n",
       "78     0.041676\n",
       "Name: Wins, dtype: float64"
      ]
     },
     "execution_count": 42,
     "metadata": {},
     "output_type": "execute_result"
    }
   ],
   "source": [
    "y_pred_lasso_2 = model_lasso_2.predict(X_test_scaled)\n",
    "win_predict_lasso_2 = y_pred_lasso_2-y_test\n",
    "win_predict_lasso_2 = abs(win_predict_lasso_2)\n",
    "win_predict_lasso_2"
   ]
  },
  {
   "cell_type": "code",
   "execution_count": 43,
   "metadata": {},
   "outputs": [
    {
     "data": {
      "text/plain": [
       "(count    30.000000\n",
       " mean      0.094560\n",
       " std       0.079404\n",
       " min       0.005211\n",
       " 25%       0.041982\n",
       " 50%       0.067028\n",
       " 75%       0.128937\n",
       " max       0.397082\n",
       " Name: Wins, dtype: float64,\n",
       " count    30.000000\n",
       " mean      0.089951\n",
       " std       0.067620\n",
       " min       0.011773\n",
       " 25%       0.040427\n",
       " 50%       0.072265\n",
       " 75%       0.121428\n",
       " max       0.289683\n",
       " Name: Wins, dtype: float64,\n",
       " count    30.000000\n",
       " mean      0.091774\n",
       " std       0.070588\n",
       " min       0.002999\n",
       " 25%       0.047668\n",
       " 50%       0.071564\n",
       " 75%       0.137575\n",
       " max       0.250479\n",
       " Name: Wins, dtype: float64)"
      ]
     },
     "execution_count": 43,
     "metadata": {},
     "output_type": "execute_result"
    }
   ],
   "source": [
    "## lasso                           ridge_2                         ridge 1\n",
    "win_predict_lasso_2.describe(), win_predict_ridge_2.describe(), abs_win.describe()"
   ]
  },
  {
   "cell_type": "code",
   "execution_count": 44,
   "metadata": {},
   "outputs": [
    {
     "data": {
      "text/plain": [
       "0.39708215677482384"
      ]
     },
     "execution_count": 44,
     "metadata": {},
     "output_type": "execute_result"
    }
   ],
   "source": [
    "np.max(win_predict_lasso_2)"
   ]
  },
  {
   "cell_type": "code",
   "execution_count": 45,
   "metadata": {},
   "outputs": [
    {
     "data": {
      "text/plain": [
       "array([0.5578544 , 0.54633777, 0.5550283 , 0.48246188, 0.49313227,\n",
       "       0.49155972, 0.48613084, 0.62808216, 0.53075448, 0.46774205,\n",
       "       0.58441156, 0.50341377, 0.5426693 , 0.50502441, 0.58378924,\n",
       "       0.3738328 , 0.49472724, 0.46490177, 0.39685231, 0.47642177,\n",
       "       0.51915404, 0.56728959, 0.47276363, 0.46902411, 0.55889299,\n",
       "       0.42464226, 0.49032925, 0.54338262, 0.54504559, 0.51728553])"
      ]
     },
     "execution_count": 45,
     "metadata": {},
     "output_type": "execute_result"
    }
   ],
   "source": [
    "y_pred_lasso_2"
   ]
  },
  {
   "cell_type": "code",
   "execution_count": 46,
   "metadata": {},
   "outputs": [
    {
     "name": "stdout",
     "output_type": "stream",
     "text": [
      "lasso 2 :  0.08412864840923187 lasso 1 :  0.084114142870175 ridge 2 :  0.08306368164002352 ridge 1 :  0.08630153407661736\n"
     ]
    }
   ],
   "source": [
    "# total difference, removing the worst prediction, then calculating the new average difference\n",
    "print(\"lasso 2 : \",(np.sum(win_predict_lasso_2)-np.max(win_predict_lasso_2))/29,\n",
    "      \"lasso 1 : \",(np.sum(win_predict_lasso_abs)-np.max(win_predict_lasso))/29,\n",
    "      \"ridge 2 : \",(np.sum(win_predict_ridge_2)-np.max(win_predict_ridge_2))/29,\n",
    "      \"ridge 1 : \",(np.sum(abs_win)-np.max(abs_win))/29)"
   ]
  },
  {
   "cell_type": "markdown",
   "metadata": {},
   "source": [
    "That is close. ridge 2 eeks out a win against lasso 1. At the moment I still like lasso 1. The lasso predictions better reflect my feelings about what COULD have happened. \n"
   ]
  },
  {
   "cell_type": "code",
   "execution_count": 47,
   "metadata": {},
   "outputs": [
    {
     "data": {
      "text/plain": [
       "0.8965005961766297"
      ]
     },
     "execution_count": 47,
     "metadata": {},
     "output_type": "execute_result"
    }
   ],
   "source": [
    "# running a random forest regressor, or ensemble method. \n",
    "\n",
    "# I have selected absolute error because I am less worried about large error.\n",
    "# I am comparing to vegas predictions and if you lose a bet you lose a bet. The degree of how bad is irrelevant\n",
    "\n",
    "RandomForestReg = RandomForestRegressor(n_estimators=1000, criterion='absolute_error')\n",
    "RFR_model = RandomForestReg.fit(X_train_scaled,y_train)\n",
    "RFR_pred = RFR_model.predict(X_test_scaled)\n",
    "RFR_model.score(X_train_scaled,y_train)\n"
   ]
  },
  {
   "cell_type": "markdown",
   "metadata": {},
   "source": [
    "That is a much better r2"
   ]
  },
  {
   "cell_type": "code",
   "execution_count": 48,
   "metadata": {},
   "outputs": [
    {
     "data": {
      "text/plain": [
       "6      0.140251\n",
       "61     0.077716\n",
       "90     0.063117\n",
       "30     0.073567\n",
       "31     0.060643\n",
       "55     0.155822\n",
       "109    0.000360\n",
       "98     0.390675\n",
       "59     0.048433\n",
       "103    0.057785\n",
       "126    0.022373\n",
       "97     0.268073\n",
       "74     0.160221\n",
       "67     0.026860\n",
       "115    0.064883\n",
       "25     0.038406\n",
       "95     0.010027\n",
       "100    0.097919\n",
       "9      0.021016\n",
       "129    0.007597\n",
       "71     0.035569\n",
       "47     0.046599\n",
       "86     0.049255\n",
       "57     0.140725\n",
       "48     0.067714\n",
       "5      0.081633\n",
       "112    0.187208\n",
       "148    0.230989\n",
       "122    0.028965\n",
       "78     0.084784\n",
       "Name: Wins, dtype: float64"
      ]
     },
     "execution_count": 48,
     "metadata": {},
     "output_type": "execute_result"
    }
   ],
   "source": [
    "# determining how close predictions are\n",
    "WP_RandomForestR = RFR_pred-y_test\n",
    "WP_RandomForestR = abs(WP_RandomForestR)\n",
    "WP_RandomForestR"
   ]
  },
  {
   "cell_type": "code",
   "execution_count": 49,
   "metadata": {},
   "outputs": [
    {
     "data": {
      "text/plain": [
       "count    30.000000\n",
       "mean      0.091306\n",
       "std       0.086949\n",
       "min       0.000360\n",
       "25%       0.036279\n",
       "50%       0.064000\n",
       "75%       0.129668\n",
       "max       0.390675\n",
       "Name: Wins, dtype: float64"
      ]
     },
     "execution_count": 49,
     "metadata": {},
     "output_type": "execute_result"
    }
   ],
   "source": [
    "# better average with a high max\n",
    "WP_RandomForestR.describe()"
   ]
  },
  {
   "cell_type": "code",
   "execution_count": 50,
   "metadata": {},
   "outputs": [
    {
     "name": "stdout",
     "output_type": "stream",
     "text": [
      "lasso 1 :  0.084114142870175 ridge 2 :  0.08306368164002352 RandomF 1 :  0.08098314344453818\n"
     ]
    }
   ],
   "source": [
    "# total difference, removing the worst prediction, then calculating the new average difference\n",
    "print(\"lasso 1 : \",(np.sum(win_predict_lasso_abs)-np.max(win_predict_lasso))/29,\n",
    "      \"ridge 2 : \",(np.sum(win_predict_ridge_2)-np.max(win_predict_ridge_2))/29,\n",
    "      \"RandomF 1 : \",(np.sum(WP_RandomForestR)-np.max(WP_RandomForestR))/29)"
   ]
  },
  {
   "cell_type": "code",
   "execution_count": 51,
   "metadata": {},
   "outputs": [],
   "source": [
    "# New Leader 6.5 wins off on average. \n"
   ]
  },
  {
   "cell_type": "code",
   "execution_count": 52,
   "metadata": {},
   "outputs": [],
   "source": [
    "future = pd.read_csv('future.csv')\n",
    "future_X = future.drop(columns=['Team', 'Wins','Season','Unnamed: 0'])"
   ]
  },
  {
   "cell_type": "code",
   "execution_count": 53,
   "metadata": {},
   "outputs": [
    {
     "data": {
      "text/html": [
       "<div>\n",
       "<style scoped>\n",
       "    .dataframe tbody tr th:only-of-type {\n",
       "        vertical-align: middle;\n",
       "    }\n",
       "\n",
       "    .dataframe tbody tr th {\n",
       "        vertical-align: top;\n",
       "    }\n",
       "\n",
       "    .dataframe thead th {\n",
       "        text-align: right;\n",
       "    }\n",
       "</style>\n",
       "<table border=\"1\" class=\"dataframe\">\n",
       "  <thead>\n",
       "    <tr style=\"text-align: right;\">\n",
       "      <th></th>\n",
       "      <th>Unnamed: 0</th>\n",
       "      <th>Season</th>\n",
       "      <th>Team</th>\n",
       "      <th>Wins</th>\n",
       "      <th>1 TS</th>\n",
       "      <th>1% TS</th>\n",
       "      <th>1% SC</th>\n",
       "      <th>2 TS</th>\n",
       "      <th>2% TS</th>\n",
       "      <th>2% SC</th>\n",
       "      <th>...</th>\n",
       "      <th>7% SC</th>\n",
       "      <th>8 TS</th>\n",
       "      <th>8% TS</th>\n",
       "      <th>8% SC</th>\n",
       "      <th>9 TS</th>\n",
       "      <th>9% TS</th>\n",
       "      <th>9% SC</th>\n",
       "      <th>10 TS</th>\n",
       "      <th>10% TS</th>\n",
       "      <th>10% SC</th>\n",
       "    </tr>\n",
       "  </thead>\n",
       "  <tbody>\n",
       "    <tr>\n",
       "      <th>0</th>\n",
       "      <td>0</td>\n",
       "      <td>2021-22</td>\n",
       "      <td>Portland Trailblazers</td>\n",
       "      <td>NaN</td>\n",
       "      <td>39344900.0</td>\n",
       "      <td>27.354576</td>\n",
       "      <td>35.000000</td>\n",
       "      <td>70209098.0</td>\n",
       "      <td>48.812936</td>\n",
       "      <td>62.455831</td>\n",
       "      <td>...</td>\n",
       "      <td>111.491040</td>\n",
       "      <td>128175967.0</td>\n",
       "      <td>89.114452</td>\n",
       "      <td>114.021356</td>\n",
       "      <td>130565608.0</td>\n",
       "      <td>90.775852</td>\n",
       "      <td>116.147106</td>\n",
       "      <td>132955249.0</td>\n",
       "      <td>92.437252</td>\n",
       "      <td>118.272857</td>\n",
       "    </tr>\n",
       "    <tr>\n",
       "      <th>1</th>\n",
       "      <td>1</td>\n",
       "      <td>2021-22</td>\n",
       "      <td>Utah Jazz</td>\n",
       "      <td>NaN</td>\n",
       "      <td>35344828.0</td>\n",
       "      <td>22.846263</td>\n",
       "      <td>31.441660</td>\n",
       "      <td>63448378.0</td>\n",
       "      <td>41.011894</td>\n",
       "      <td>56.441705</td>\n",
       "      <td>...</td>\n",
       "      <td>122.980188</td>\n",
       "      <td>144136949.0</td>\n",
       "      <td>93.167540</td>\n",
       "      <td>128.219749</td>\n",
       "      <td>146538486.0</td>\n",
       "      <td>94.719850</td>\n",
       "      <td>130.356082</td>\n",
       "      <td>148614366.0</td>\n",
       "      <td>96.061662</td>\n",
       "      <td>132.202720</td>\n",
       "    </tr>\n",
       "    <tr>\n",
       "      <th>2</th>\n",
       "      <td>2</td>\n",
       "      <td>2021-22</td>\n",
       "      <td>Minnesota Timberwolves</td>\n",
       "      <td>NaN</td>\n",
       "      <td>31610000.0</td>\n",
       "      <td>22.976059</td>\n",
       "      <td>28.119273</td>\n",
       "      <td>61623500.0</td>\n",
       "      <td>44.791685</td>\n",
       "      <td>54.818350</td>\n",
       "      <td>...</td>\n",
       "      <td>106.658319</td>\n",
       "      <td>123986787.0</td>\n",
       "      <td>90.121091</td>\n",
       "      <td>110.294792</td>\n",
       "      <td>127926971.0</td>\n",
       "      <td>92.985055</td>\n",
       "      <td>113.799857</td>\n",
       "      <td>130280291.0</td>\n",
       "      <td>94.695591</td>\n",
       "      <td>115.893297</td>\n",
       "    </tr>\n",
       "    <tr>\n",
       "      <th>3</th>\n",
       "      <td>3</td>\n",
       "      <td>2021-22</td>\n",
       "      <td>Denver Nuggets</td>\n",
       "      <td>NaN</td>\n",
       "      <td>31590000.0</td>\n",
       "      <td>23.037546</td>\n",
       "      <td>28.101482</td>\n",
       "      <td>62100423.0</td>\n",
       "      <td>45.287792</td>\n",
       "      <td>55.242606</td>\n",
       "      <td>...</td>\n",
       "      <td>102.993293</td>\n",
       "      <td>120278880.0</td>\n",
       "      <td>87.715424</td>\n",
       "      <td>106.996353</td>\n",
       "      <td>124083030.0</td>\n",
       "      <td>90.489665</td>\n",
       "      <td>110.380406</td>\n",
       "      <td>126581790.0</td>\n",
       "      <td>92.311928</td>\n",
       "      <td>112.603226</td>\n",
       "    </tr>\n",
       "    <tr>\n",
       "      <th>4</th>\n",
       "      <td>4</td>\n",
       "      <td>2021-22</td>\n",
       "      <td>Oklahoma City Thunder</td>\n",
       "      <td>NaN</td>\n",
       "      <td>26238422.0</td>\n",
       "      <td>33.561596</td>\n",
       "      <td>23.340885</td>\n",
       "      <td>35959322.0</td>\n",
       "      <td>45.995610</td>\n",
       "      <td>31.988295</td>\n",
       "      <td>...</td>\n",
       "      <td>51.351268</td>\n",
       "      <td>60627254.0</td>\n",
       "      <td>77.548390</td>\n",
       "      <td>53.932121</td>\n",
       "      <td>63140294.0</td>\n",
       "      <td>80.762823</td>\n",
       "      <td>56.167643</td>\n",
       "      <td>65553134.0</td>\n",
       "      <td>83.849089</td>\n",
       "      <td>58.314030</td>\n",
       "    </tr>\n",
       "    <tr>\n",
       "      <th>5</th>\n",
       "      <td>5</td>\n",
       "      <td>2021-22</td>\n",
       "      <td>Cleveland Cavaliers</td>\n",
       "      <td>NaN</td>\n",
       "      <td>31300000.0</td>\n",
       "      <td>23.042654</td>\n",
       "      <td>27.843507</td>\n",
       "      <td>51300000.0</td>\n",
       "      <td>37.766394</td>\n",
       "      <td>45.634885</td>\n",
       "      <td>...</td>\n",
       "      <td>96.043618</td>\n",
       "      <td>114687193.0</td>\n",
       "      <td>84.431222</td>\n",
       "      <td>102.022162</td>\n",
       "      <td>121036864.0</td>\n",
       "      <td>89.105768</td>\n",
       "      <td>107.670632</td>\n",
       "      <td>123678555.0</td>\n",
       "      <td>91.050546</td>\n",
       "      <td>110.020598</td>\n",
       "    </tr>\n",
       "    <tr>\n",
       "      <th>6</th>\n",
       "      <td>6</td>\n",
       "      <td>2021-22</td>\n",
       "      <td>Indiana Pacers</td>\n",
       "      <td>NaN</td>\n",
       "      <td>21700000.0</td>\n",
       "      <td>16.192361</td>\n",
       "      <td>19.303645</td>\n",
       "      <td>40262500.0</td>\n",
       "      <td>30.043545</td>\n",
       "      <td>35.816268</td>\n",
       "      <td>...</td>\n",
       "      <td>94.696835</td>\n",
       "      <td>112458920.0</td>\n",
       "      <td>83.915918</td>\n",
       "      <td>100.039959</td>\n",
       "      <td>117336969.0</td>\n",
       "      <td>87.555877</td>\n",
       "      <td>104.379320</td>\n",
       "      <td>121086489.0</td>\n",
       "      <td>90.353738</td>\n",
       "      <td>107.714777</td>\n",
       "    </tr>\n",
       "    <tr>\n",
       "      <th>7</th>\n",
       "      <td>7</td>\n",
       "      <td>2021-22</td>\n",
       "      <td>Phoenix Suns</td>\n",
       "      <td>NaN</td>\n",
       "      <td>31610000.0</td>\n",
       "      <td>24.350241</td>\n",
       "      <td>28.119273</td>\n",
       "      <td>62410000.0</td>\n",
       "      <td>48.076512</td>\n",
       "      <td>55.517996</td>\n",
       "      <td>...</td>\n",
       "      <td>94.135584</td>\n",
       "      <td>110821575.0</td>\n",
       "      <td>85.369569</td>\n",
       "      <td>98.583428</td>\n",
       "      <td>115279575.0</td>\n",
       "      <td>88.803716</td>\n",
       "      <td>102.549126</td>\n",
       "      <td>119716575.0</td>\n",
       "      <td>92.221686</td>\n",
       "      <td>106.496144</td>\n",
       "    </tr>\n",
       "    <tr>\n",
       "      <th>8</th>\n",
       "      <td>8</td>\n",
       "      <td>2021-22</td>\n",
       "      <td>Golden State Warriors</td>\n",
       "      <td>NaN</td>\n",
       "      <td>45780966.0</td>\n",
       "      <td>25.684682</td>\n",
       "      <td>40.725324</td>\n",
       "      <td>83761686.0</td>\n",
       "      <td>46.993161</td>\n",
       "      <td>74.511792</td>\n",
       "      <td>...</td>\n",
       "      <td>141.601153</td>\n",
       "      <td>162741600.0</td>\n",
       "      <td>91.303585</td>\n",
       "      <td>144.769869</td>\n",
       "      <td>165383291.0</td>\n",
       "      <td>92.785664</td>\n",
       "      <td>147.119835</td>\n",
       "      <td>167772932.0</td>\n",
       "      <td>94.126334</td>\n",
       "      <td>149.245585</td>\n",
       "    </tr>\n",
       "    <tr>\n",
       "      <th>9</th>\n",
       "      <td>9</td>\n",
       "      <td>2021-22</td>\n",
       "      <td>Los Angeles Lakers</td>\n",
       "      <td>NaN</td>\n",
       "      <td>44211146.0</td>\n",
       "      <td>26.982541</td>\n",
       "      <td>39.328861</td>\n",
       "      <td>85391690.0</td>\n",
       "      <td>52.115472</td>\n",
       "      <td>75.961793</td>\n",
       "      <td>...</td>\n",
       "      <td>127.105824</td>\n",
       "      <td>145526432.0</td>\n",
       "      <td>88.816356</td>\n",
       "      <td>129.455790</td>\n",
       "      <td>148168123.0</td>\n",
       "      <td>90.428608</td>\n",
       "      <td>131.805756</td>\n",
       "      <td>150809814.0</td>\n",
       "      <td>92.040861</td>\n",
       "      <td>134.155723</td>\n",
       "    </tr>\n",
       "    <tr>\n",
       "      <th>10</th>\n",
       "      <td>10</td>\n",
       "      <td>2021-22</td>\n",
       "      <td>Los Angeles Clippers</td>\n",
       "      <td>NaN</td>\n",
       "      <td>39344970.0</td>\n",
       "      <td>23.427984</td>\n",
       "      <td>35.000062</td>\n",
       "      <td>78689870.0</td>\n",
       "      <td>46.855927</td>\n",
       "      <td>70.000062</td>\n",
       "      <td>...</td>\n",
       "      <td>129.251294</td>\n",
       "      <td>152815068.0</td>\n",
       "      <td>90.993818</td>\n",
       "      <td>135.939534</td>\n",
       "      <td>156717507.0</td>\n",
       "      <td>93.317527</td>\n",
       "      <td>139.411023</td>\n",
       "      <td>159887536.0</td>\n",
       "      <td>95.205123</td>\n",
       "      <td>142.230982</td>\n",
       "    </tr>\n",
       "    <tr>\n",
       "      <th>11</th>\n",
       "      <td>11</td>\n",
       "      <td>2021-22</td>\n",
       "      <td>Sacremento Kings</td>\n",
       "      <td>NaN</td>\n",
       "      <td>28103550.0</td>\n",
       "      <td>21.657361</td>\n",
       "      <td>25.000044</td>\n",
       "      <td>50580823.0</td>\n",
       "      <td>38.978960</td>\n",
       "      <td>44.995128</td>\n",
       "      <td>...</td>\n",
       "      <td>95.082239</td>\n",
       "      <td>111233348.0</td>\n",
       "      <td>85.719448</td>\n",
       "      <td>98.949729</td>\n",
       "      <td>115256948.0</td>\n",
       "      <td>88.820144</td>\n",
       "      <td>102.528998</td>\n",
       "      <td>119256948.0</td>\n",
       "      <td>91.902653</td>\n",
       "      <td>106.087274</td>\n",
       "    </tr>\n",
       "    <tr>\n",
       "      <th>12</th>\n",
       "      <td>12</td>\n",
       "      <td>2021-22</td>\n",
       "      <td>Atlanta Hawks</td>\n",
       "      <td>NaN</td>\n",
       "      <td>23000000.0</td>\n",
       "      <td>17.135664</td>\n",
       "      <td>20.460085</td>\n",
       "      <td>43475000.0</td>\n",
       "      <td>32.390131</td>\n",
       "      <td>38.674009</td>\n",
       "      <td>...</td>\n",
       "      <td>91.809414</td>\n",
       "      <td>109310915.0</td>\n",
       "      <td>81.439790</td>\n",
       "      <td>97.239592</td>\n",
       "      <td>114310915.0</td>\n",
       "      <td>85.164934</td>\n",
       "      <td>101.687437</td>\n",
       "      <td>118981075.0</td>\n",
       "      <td>88.644338</td>\n",
       "      <td>105.841866</td>\n",
       "    </tr>\n",
       "    <tr>\n",
       "      <th>13</th>\n",
       "      <td>13</td>\n",
       "      <td>2021-22</td>\n",
       "      <td>Dallas Mavericks</td>\n",
       "      <td>NaN</td>\n",
       "      <td>31650600.0</td>\n",
       "      <td>26.327333</td>\n",
       "      <td>28.155390</td>\n",
       "      <td>52957416.0</td>\n",
       "      <td>44.050587</td>\n",
       "      <td>47.109271</td>\n",
       "      <td>...</td>\n",
       "      <td>85.948198</td>\n",
       "      <td>100617807.0</td>\n",
       "      <td>83.695048</td>\n",
       "      <td>89.506473</td>\n",
       "      <td>104117807.0</td>\n",
       "      <td>86.606388</td>\n",
       "      <td>92.619965</td>\n",
       "      <td>107451140.0</td>\n",
       "      <td>89.379092</td>\n",
       "      <td>95.585194</td>\n",
       "    </tr>\n",
       "    <tr>\n",
       "      <th>14</th>\n",
       "      <td>14</td>\n",
       "      <td>2021-22</td>\n",
       "      <td>Memphis Grizzlies</td>\n",
       "      <td>NaN</td>\n",
       "      <td>17073171.0</td>\n",
       "      <td>15.126710</td>\n",
       "      <td>15.187762</td>\n",
       "      <td>29273171.0</td>\n",
       "      <td>25.935825</td>\n",
       "      <td>26.040503</td>\n",
       "      <td>...</td>\n",
       "      <td>65.787127</td>\n",
       "      <td>80349101.0</td>\n",
       "      <td>71.188741</td>\n",
       "      <td>71.476063</td>\n",
       "      <td>85354451.0</td>\n",
       "      <td>75.623446</td>\n",
       "      <td>75.928666</td>\n",
       "      <td>90212760.0</td>\n",
       "      <td>79.927874</td>\n",
       "      <td>80.250467</td>\n",
       "    </tr>\n",
       "    <tr>\n",
       "      <th>15</th>\n",
       "      <td>15</td>\n",
       "      <td>2021-22</td>\n",
       "      <td>New Orleans Pelicans</td>\n",
       "      <td>NaN</td>\n",
       "      <td>29467800.0</td>\n",
       "      <td>25.639995</td>\n",
       "      <td>26.213639</td>\n",
       "      <td>43467800.0</td>\n",
       "      <td>37.821425</td>\n",
       "      <td>38.667604</td>\n",
       "      <td>...</td>\n",
       "      <td>82.329140</td>\n",
       "      <td>97459480.0</td>\n",
       "      <td>84.799700</td>\n",
       "      <td>86.696924</td>\n",
       "      <td>101281720.0</td>\n",
       "      <td>88.125439</td>\n",
       "      <td>90.097070</td>\n",
       "      <td>104543200.0</td>\n",
       "      <td>90.963260</td>\n",
       "      <td>92.998381</td>\n",
       "    </tr>\n",
       "    <tr>\n",
       "      <th>16</th>\n",
       "      <td>16</td>\n",
       "      <td>2021-22</td>\n",
       "      <td>Houston Rockets</td>\n",
       "      <td>NaN</td>\n",
       "      <td>44310840.0</td>\n",
       "      <td>34.801764</td>\n",
       "      <td>39.417546</td>\n",
       "      <td>62529658.0</td>\n",
       "      <td>49.110836</td>\n",
       "      <td>55.624440</td>\n",
       "      <td>...</td>\n",
       "      <td>93.592095</td>\n",
       "      <td>109104618.0</td>\n",
       "      <td>85.690842</td>\n",
       "      <td>97.056077</td>\n",
       "      <td>112718298.0</td>\n",
       "      <td>88.529028</td>\n",
       "      <td>100.270694</td>\n",
       "      <td>115932978.0</td>\n",
       "      <td>91.053840</td>\n",
       "      <td>103.130373</td>\n",
       "    </tr>\n",
       "    <tr>\n",
       "      <th>17</th>\n",
       "      <td>17</td>\n",
       "      <td>2021-22</td>\n",
       "      <td>Washington Wizards</td>\n",
       "      <td>NaN</td>\n",
       "      <td>34502130.0</td>\n",
       "      <td>25.369559</td>\n",
       "      <td>30.692022</td>\n",
       "      <td>51644987.0</td>\n",
       "      <td>37.974772</td>\n",
       "      <td>45.941775</td>\n",
       "      <td>...</td>\n",
       "      <td>99.751728</td>\n",
       "      <td>117051068.0</td>\n",
       "      <td>86.068133</td>\n",
       "      <td>104.124992</td>\n",
       "      <td>121743908.0</td>\n",
       "      <td>89.518798</td>\n",
       "      <td>108.299596</td>\n",
       "      <td>125724459.0</td>\n",
       "      <td>92.445713</td>\n",
       "      <td>111.840571</td>\n",
       "    </tr>\n",
       "    <tr>\n",
       "      <th>18</th>\n",
       "      <td>18</td>\n",
       "      <td>2021-22</td>\n",
       "      <td>San Antonio Spurs</td>\n",
       "      <td>NaN</td>\n",
       "      <td>15428571.0</td>\n",
       "      <td>12.822854</td>\n",
       "      <td>13.724777</td>\n",
       "      <td>30607142.0</td>\n",
       "      <td>25.437929</td>\n",
       "      <td>27.227162</td>\n",
       "      <td>...</td>\n",
       "      <td>75.137500</td>\n",
       "      <td>88965069.0</td>\n",
       "      <td>73.939839</td>\n",
       "      <td>79.140560</td>\n",
       "      <td>93412965.0</td>\n",
       "      <td>77.636534</td>\n",
       "      <td>83.097270</td>\n",
       "      <td>97648125.0</td>\n",
       "      <td>81.156421</td>\n",
       "      <td>86.864737</td>\n",
       "    </tr>\n",
       "    <tr>\n",
       "      <th>19</th>\n",
       "      <td>19</td>\n",
       "      <td>2021-22</td>\n",
       "      <td>Miami Heat</td>\n",
       "      <td>NaN</td>\n",
       "      <td>36016200.0</td>\n",
       "      <td>25.807807</td>\n",
       "      <td>32.038892</td>\n",
       "      <td>64119750.0</td>\n",
       "      <td>45.945716</td>\n",
       "      <td>57.038936</td>\n",
       "      <td>...</td>\n",
       "      <td>109.312667</td>\n",
       "      <td>125524433.0</td>\n",
       "      <td>89.945921</td>\n",
       "      <td>111.662634</td>\n",
       "      <td>128166124.0</td>\n",
       "      <td>91.838854</td>\n",
       "      <td>114.012600</td>\n",
       "      <td>130555765.0</td>\n",
       "      <td>93.551178</td>\n",
       "      <td>116.138350</td>\n",
       "    </tr>\n",
       "    <tr>\n",
       "      <th>20</th>\n",
       "      <td>20</td>\n",
       "      <td>2021-22</td>\n",
       "      <td>Charlotte Hornets</td>\n",
       "      <td>NaN</td>\n",
       "      <td>29900000.0</td>\n",
       "      <td>25.785914</td>\n",
       "      <td>26.598111</td>\n",
       "      <td>47805263.0</td>\n",
       "      <td>41.227505</td>\n",
       "      <td>42.526076</td>\n",
       "      <td>...</td>\n",
       "      <td>80.630076</td>\n",
       "      <td>95139494.0</td>\n",
       "      <td>82.048789</td>\n",
       "      <td>84.633136</td>\n",
       "      <td>99354614.0</td>\n",
       "      <td>85.683931</td>\n",
       "      <td>88.382776</td>\n",
       "      <td>103509014.0</td>\n",
       "      <td>89.266706</td>\n",
       "      <td>92.078401</td>\n",
       "    </tr>\n",
       "    <tr>\n",
       "      <th>21</th>\n",
       "      <td>21</td>\n",
       "      <td>2021-22</td>\n",
       "      <td>Orlando Magic</td>\n",
       "      <td>NaN</td>\n",
       "      <td>20482143.0</td>\n",
       "      <td>17.076200</td>\n",
       "      <td>18.220278</td>\n",
       "      <td>37882143.0</td>\n",
       "      <td>31.582782</td>\n",
       "      <td>33.698777</td>\n",
       "      <td>...</td>\n",
       "      <td>78.249997</td>\n",
       "      <td>93537286.0</td>\n",
       "      <td>77.983121</td>\n",
       "      <td>83.207862</td>\n",
       "      <td>98545126.0</td>\n",
       "      <td>82.158215</td>\n",
       "      <td>87.662681</td>\n",
       "      <td>103545126.0</td>\n",
       "      <td>86.326773</td>\n",
       "      <td>92.110525</td>\n",
       "    </tr>\n",
       "    <tr>\n",
       "      <th>22</th>\n",
       "      <td>22</td>\n",
       "      <td>2021-22</td>\n",
       "      <td>Milwaukee Bucks</td>\n",
       "      <td>NaN</td>\n",
       "      <td>39344970.0</td>\n",
       "      <td>25.232087</td>\n",
       "      <td>35.000062</td>\n",
       "      <td>74844970.0</td>\n",
       "      <td>47.998380</td>\n",
       "      <td>66.579759</td>\n",
       "      <td>...</td>\n",
       "      <td>117.990100</td>\n",
       "      <td>136692086.0</td>\n",
       "      <td>87.661184</td>\n",
       "      <td>121.597031</td>\n",
       "      <td>140692086.0</td>\n",
       "      <td>90.226400</td>\n",
       "      <td>125.155306</td>\n",
       "      <td>143861433.0</td>\n",
       "      <td>92.258915</td>\n",
       "      <td>127.974659</td>\n",
       "    </tr>\n",
       "    <tr>\n",
       "      <th>23</th>\n",
       "      <td>23</td>\n",
       "      <td>2021-22</td>\n",
       "      <td>Detroit Pistons</td>\n",
       "      <td>NaN</td>\n",
       "      <td>29764126.0</td>\n",
       "      <td>24.724080</td>\n",
       "      <td>26.477241</td>\n",
       "      <td>49764126.0</td>\n",
       "      <td>41.337422</td>\n",
       "      <td>44.268620</td>\n",
       "      <td>...</td>\n",
       "      <td>80.646166</td>\n",
       "      <td>95662931.0</td>\n",
       "      <td>79.464049</td>\n",
       "      <td>85.098770</td>\n",
       "      <td>98062931.0</td>\n",
       "      <td>81.457650</td>\n",
       "      <td>87.233735</td>\n",
       "      <td>101340011.0</td>\n",
       "      <td>84.179813</td>\n",
       "      <td>90.148924</td>\n",
       "    </tr>\n",
       "    <tr>\n",
       "      <th>24</th>\n",
       "      <td>24</td>\n",
       "      <td>2021-22</td>\n",
       "      <td>Chicago Bulls</td>\n",
       "      <td>NaN</td>\n",
       "      <td>26984127.0</td>\n",
       "      <td>19.881384</td>\n",
       "      <td>24.004241</td>\n",
       "      <td>50984127.0</td>\n",
       "      <td>37.564121</td>\n",
       "      <td>45.353895</td>\n",
       "      <td>...</td>\n",
       "      <td>103.198825</td>\n",
       "      <td>121847687.0</td>\n",
       "      <td>89.775024</td>\n",
       "      <td>108.391915</td>\n",
       "      <td>127018251.0</td>\n",
       "      <td>93.584596</td>\n",
       "      <td>112.991488</td>\n",
       "      <td>128807507.0</td>\n",
       "      <td>94.902886</td>\n",
       "      <td>114.583154</td>\n",
       "    </tr>\n",
       "    <tr>\n",
       "      <th>25</th>\n",
       "      <td>25</td>\n",
       "      <td>2021-22</td>\n",
       "      <td>Philadelphia Sixers</td>\n",
       "      <td>NaN</td>\n",
       "      <td>36000000.0</td>\n",
       "      <td>25.309882</td>\n",
       "      <td>32.024481</td>\n",
       "      <td>67590000.0</td>\n",
       "      <td>47.519304</td>\n",
       "      <td>60.125963</td>\n",
       "      <td>...</td>\n",
       "      <td>111.449701</td>\n",
       "      <td>128125227.0</td>\n",
       "      <td>90.078733</td>\n",
       "      <td>113.976219</td>\n",
       "      <td>130728147.0</td>\n",
       "      <td>91.908722</td>\n",
       "      <td>116.291696</td>\n",
       "      <td>133129684.0</td>\n",
       "      <td>93.597128</td>\n",
       "      <td>118.428029</td>\n",
       "    </tr>\n",
       "    <tr>\n",
       "      <th>26</th>\n",
       "      <td>26</td>\n",
       "      <td>2021-22</td>\n",
       "      <td>Brooklyn Nets</td>\n",
       "      <td>NaN</td>\n",
       "      <td>43848000.0</td>\n",
       "      <td>25.158971</td>\n",
       "      <td>39.005818</td>\n",
       "      <td>84766900.0</td>\n",
       "      <td>48.637292</td>\n",
       "      <td>75.405999</td>\n",
       "      <td>...</td>\n",
       "      <td>134.769404</td>\n",
       "      <td>154141369.0</td>\n",
       "      <td>88.442763</td>\n",
       "      <td>137.119370</td>\n",
       "      <td>156783060.0</td>\n",
       "      <td>89.958504</td>\n",
       "      <td>139.469337</td>\n",
       "      <td>159424751.0</td>\n",
       "      <td>91.474246</td>\n",
       "      <td>141.819303</td>\n",
       "    </tr>\n",
       "    <tr>\n",
       "      <th>27</th>\n",
       "      <td>27</td>\n",
       "      <td>2021-22</td>\n",
       "      <td>New York Knicks</td>\n",
       "      <td>NaN</td>\n",
       "      <td>19800000.0</td>\n",
       "      <td>16.750939</td>\n",
       "      <td>17.613465</td>\n",
       "      <td>37939535.0</td>\n",
       "      <td>32.097112</td>\n",
       "      <td>33.749831</td>\n",
       "      <td>...</td>\n",
       "      <td>77.457963</td>\n",
       "      <td>93505261.0</td>\n",
       "      <td>79.106106</td>\n",
       "      <td>83.179374</td>\n",
       "      <td>99351239.0</td>\n",
       "      <td>84.051844</td>\n",
       "      <td>88.379774</td>\n",
       "      <td>104456399.0</td>\n",
       "      <td>88.370845</td>\n",
       "      <td>92.921166</td>\n",
       "    </tr>\n",
       "    <tr>\n",
       "      <th>28</th>\n",
       "      <td>28</td>\n",
       "      <td>2021-22</td>\n",
       "      <td>Toronto Raptors</td>\n",
       "      <td>NaN</td>\n",
       "      <td>31320000.0</td>\n",
       "      <td>23.259739</td>\n",
       "      <td>27.861298</td>\n",
       "      <td>50995926.0</td>\n",
       "      <td>37.872029</td>\n",
       "      <td>45.364391</td>\n",
       "      <td>...</td>\n",
       "      <td>103.899416</td>\n",
       "      <td>123147490.0</td>\n",
       "      <td>91.455253</td>\n",
       "      <td>109.548179</td>\n",
       "      <td>125858770.0</td>\n",
       "      <td>93.468780</td>\n",
       "      <td>111.960049</td>\n",
       "      <td>127906810.0</td>\n",
       "      <td>94.989753</td>\n",
       "      <td>113.781922</td>\n",
       "    </tr>\n",
       "    <tr>\n",
       "      <th>29</th>\n",
       "      <td>29</td>\n",
       "      <td>2021-22</td>\n",
       "      <td>Boston Celtics</td>\n",
       "      <td>NaN</td>\n",
       "      <td>28103550.0</td>\n",
       "      <td>20.033231</td>\n",
       "      <td>25.000044</td>\n",
       "      <td>55103550.0</td>\n",
       "      <td>39.279812</td>\n",
       "      <td>49.018405</td>\n",
       "      <td>...</td>\n",
       "      <td>105.659110</td>\n",
       "      <td>122579992.0</td>\n",
       "      <td>87.379472</td>\n",
       "      <td>109.043350</td>\n",
       "      <td>126241968.0</td>\n",
       "      <td>89.989861</td>\n",
       "      <td>112.300930</td>\n",
       "      <td>129873168.0</td>\n",
       "      <td>92.578312</td>\n",
       "      <td>115.531133</td>\n",
       "    </tr>\n",
       "  </tbody>\n",
       "</table>\n",
       "<p>30 rows × 34 columns</p>\n",
       "</div>"
      ],
      "text/plain": [
       "    Unnamed: 0   Season                    Team  Wins        1 TS      1% TS  \\\n",
       "0            0  2021-22   Portland Trailblazers   NaN  39344900.0  27.354576   \n",
       "1            1  2021-22               Utah Jazz   NaN  35344828.0  22.846263   \n",
       "2            2  2021-22  Minnesota Timberwolves   NaN  31610000.0  22.976059   \n",
       "3            3  2021-22          Denver Nuggets   NaN  31590000.0  23.037546   \n",
       "4            4  2021-22   Oklahoma City Thunder   NaN  26238422.0  33.561596   \n",
       "5            5  2021-22     Cleveland Cavaliers   NaN  31300000.0  23.042654   \n",
       "6            6  2021-22          Indiana Pacers   NaN  21700000.0  16.192361   \n",
       "7            7  2021-22            Phoenix Suns   NaN  31610000.0  24.350241   \n",
       "8            8  2021-22   Golden State Warriors   NaN  45780966.0  25.684682   \n",
       "9            9  2021-22      Los Angeles Lakers   NaN  44211146.0  26.982541   \n",
       "10          10  2021-22    Los Angeles Clippers   NaN  39344970.0  23.427984   \n",
       "11          11  2021-22        Sacremento Kings   NaN  28103550.0  21.657361   \n",
       "12          12  2021-22           Atlanta Hawks   NaN  23000000.0  17.135664   \n",
       "13          13  2021-22        Dallas Mavericks   NaN  31650600.0  26.327333   \n",
       "14          14  2021-22       Memphis Grizzlies   NaN  17073171.0  15.126710   \n",
       "15          15  2021-22    New Orleans Pelicans   NaN  29467800.0  25.639995   \n",
       "16          16  2021-22         Houston Rockets   NaN  44310840.0  34.801764   \n",
       "17          17  2021-22      Washington Wizards   NaN  34502130.0  25.369559   \n",
       "18          18  2021-22       San Antonio Spurs   NaN  15428571.0  12.822854   \n",
       "19          19  2021-22              Miami Heat   NaN  36016200.0  25.807807   \n",
       "20          20  2021-22       Charlotte Hornets   NaN  29900000.0  25.785914   \n",
       "21          21  2021-22           Orlando Magic   NaN  20482143.0  17.076200   \n",
       "22          22  2021-22         Milwaukee Bucks   NaN  39344970.0  25.232087   \n",
       "23          23  2021-22         Detroit Pistons   NaN  29764126.0  24.724080   \n",
       "24          24  2021-22           Chicago Bulls   NaN  26984127.0  19.881384   \n",
       "25          25  2021-22     Philadelphia Sixers   NaN  36000000.0  25.309882   \n",
       "26          26  2021-22           Brooklyn Nets   NaN  43848000.0  25.158971   \n",
       "27          27  2021-22         New York Knicks   NaN  19800000.0  16.750939   \n",
       "28          28  2021-22         Toronto Raptors   NaN  31320000.0  23.259739   \n",
       "29          29  2021-22          Boston Celtics   NaN  28103550.0  20.033231   \n",
       "\n",
       "        1% SC        2 TS      2% TS      2% SC  ...       7% SC         8 TS  \\\n",
       "0   35.000000  70209098.0  48.812936  62.455831  ...  111.491040  128175967.0   \n",
       "1   31.441660  63448378.0  41.011894  56.441705  ...  122.980188  144136949.0   \n",
       "2   28.119273  61623500.0  44.791685  54.818350  ...  106.658319  123986787.0   \n",
       "3   28.101482  62100423.0  45.287792  55.242606  ...  102.993293  120278880.0   \n",
       "4   23.340885  35959322.0  45.995610  31.988295  ...   51.351268   60627254.0   \n",
       "5   27.843507  51300000.0  37.766394  45.634885  ...   96.043618  114687193.0   \n",
       "6   19.303645  40262500.0  30.043545  35.816268  ...   94.696835  112458920.0   \n",
       "7   28.119273  62410000.0  48.076512  55.517996  ...   94.135584  110821575.0   \n",
       "8   40.725324  83761686.0  46.993161  74.511792  ...  141.601153  162741600.0   \n",
       "9   39.328861  85391690.0  52.115472  75.961793  ...  127.105824  145526432.0   \n",
       "10  35.000062  78689870.0  46.855927  70.000062  ...  129.251294  152815068.0   \n",
       "11  25.000044  50580823.0  38.978960  44.995128  ...   95.082239  111233348.0   \n",
       "12  20.460085  43475000.0  32.390131  38.674009  ...   91.809414  109310915.0   \n",
       "13  28.155390  52957416.0  44.050587  47.109271  ...   85.948198  100617807.0   \n",
       "14  15.187762  29273171.0  25.935825  26.040503  ...   65.787127   80349101.0   \n",
       "15  26.213639  43467800.0  37.821425  38.667604  ...   82.329140   97459480.0   \n",
       "16  39.417546  62529658.0  49.110836  55.624440  ...   93.592095  109104618.0   \n",
       "17  30.692022  51644987.0  37.974772  45.941775  ...   99.751728  117051068.0   \n",
       "18  13.724777  30607142.0  25.437929  27.227162  ...   75.137500   88965069.0   \n",
       "19  32.038892  64119750.0  45.945716  57.038936  ...  109.312667  125524433.0   \n",
       "20  26.598111  47805263.0  41.227505  42.526076  ...   80.630076   95139494.0   \n",
       "21  18.220278  37882143.0  31.582782  33.698777  ...   78.249997   93537286.0   \n",
       "22  35.000062  74844970.0  47.998380  66.579759  ...  117.990100  136692086.0   \n",
       "23  26.477241  49764126.0  41.337422  44.268620  ...   80.646166   95662931.0   \n",
       "24  24.004241  50984127.0  37.564121  45.353895  ...  103.198825  121847687.0   \n",
       "25  32.024481  67590000.0  47.519304  60.125963  ...  111.449701  128125227.0   \n",
       "26  39.005818  84766900.0  48.637292  75.405999  ...  134.769404  154141369.0   \n",
       "27  17.613465  37939535.0  32.097112  33.749831  ...   77.457963   93505261.0   \n",
       "28  27.861298  50995926.0  37.872029  45.364391  ...  103.899416  123147490.0   \n",
       "29  25.000044  55103550.0  39.279812  49.018405  ...  105.659110  122579992.0   \n",
       "\n",
       "        8% TS       8% SC         9 TS      9% TS       9% SC        10 TS  \\\n",
       "0   89.114452  114.021356  130565608.0  90.775852  116.147106  132955249.0   \n",
       "1   93.167540  128.219749  146538486.0  94.719850  130.356082  148614366.0   \n",
       "2   90.121091  110.294792  127926971.0  92.985055  113.799857  130280291.0   \n",
       "3   87.715424  106.996353  124083030.0  90.489665  110.380406  126581790.0   \n",
       "4   77.548390   53.932121   63140294.0  80.762823   56.167643   65553134.0   \n",
       "5   84.431222  102.022162  121036864.0  89.105768  107.670632  123678555.0   \n",
       "6   83.915918  100.039959  117336969.0  87.555877  104.379320  121086489.0   \n",
       "7   85.369569   98.583428  115279575.0  88.803716  102.549126  119716575.0   \n",
       "8   91.303585  144.769869  165383291.0  92.785664  147.119835  167772932.0   \n",
       "9   88.816356  129.455790  148168123.0  90.428608  131.805756  150809814.0   \n",
       "10  90.993818  135.939534  156717507.0  93.317527  139.411023  159887536.0   \n",
       "11  85.719448   98.949729  115256948.0  88.820144  102.528998  119256948.0   \n",
       "12  81.439790   97.239592  114310915.0  85.164934  101.687437  118981075.0   \n",
       "13  83.695048   89.506473  104117807.0  86.606388   92.619965  107451140.0   \n",
       "14  71.188741   71.476063   85354451.0  75.623446   75.928666   90212760.0   \n",
       "15  84.799700   86.696924  101281720.0  88.125439   90.097070  104543200.0   \n",
       "16  85.690842   97.056077  112718298.0  88.529028  100.270694  115932978.0   \n",
       "17  86.068133  104.124992  121743908.0  89.518798  108.299596  125724459.0   \n",
       "18  73.939839   79.140560   93412965.0  77.636534   83.097270   97648125.0   \n",
       "19  89.945921  111.662634  128166124.0  91.838854  114.012600  130555765.0   \n",
       "20  82.048789   84.633136   99354614.0  85.683931   88.382776  103509014.0   \n",
       "21  77.983121   83.207862   98545126.0  82.158215   87.662681  103545126.0   \n",
       "22  87.661184  121.597031  140692086.0  90.226400  125.155306  143861433.0   \n",
       "23  79.464049   85.098770   98062931.0  81.457650   87.233735  101340011.0   \n",
       "24  89.775024  108.391915  127018251.0  93.584596  112.991488  128807507.0   \n",
       "25  90.078733  113.976219  130728147.0  91.908722  116.291696  133129684.0   \n",
       "26  88.442763  137.119370  156783060.0  89.958504  139.469337  159424751.0   \n",
       "27  79.106106   83.179374   99351239.0  84.051844   88.379774  104456399.0   \n",
       "28  91.455253  109.548179  125858770.0  93.468780  111.960049  127906810.0   \n",
       "29  87.379472  109.043350  126241968.0  89.989861  112.300930  129873168.0   \n",
       "\n",
       "       10% TS      10% SC  \n",
       "0   92.437252  118.272857  \n",
       "1   96.061662  132.202720  \n",
       "2   94.695591  115.893297  \n",
       "3   92.311928  112.603226  \n",
       "4   83.849089   58.314030  \n",
       "5   91.050546  110.020598  \n",
       "6   90.353738  107.714777  \n",
       "7   92.221686  106.496144  \n",
       "8   94.126334  149.245585  \n",
       "9   92.040861  134.155723  \n",
       "10  95.205123  142.230982  \n",
       "11  91.902653  106.087274  \n",
       "12  88.644338  105.841866  \n",
       "13  89.379092   95.585194  \n",
       "14  79.927874   80.250467  \n",
       "15  90.963260   92.998381  \n",
       "16  91.053840  103.130373  \n",
       "17  92.445713  111.840571  \n",
       "18  81.156421   86.864737  \n",
       "19  93.551178  116.138350  \n",
       "20  89.266706   92.078401  \n",
       "21  86.326773   92.110525  \n",
       "22  92.258915  127.974659  \n",
       "23  84.179813   90.148924  \n",
       "24  94.902886  114.583154  \n",
       "25  93.597128  118.428029  \n",
       "26  91.474246  141.819303  \n",
       "27  88.370845   92.921166  \n",
       "28  94.989753  113.781922  \n",
       "29  92.578312  115.531133  \n",
       "\n",
       "[30 rows x 34 columns]"
      ]
     },
     "execution_count": 53,
     "metadata": {},
     "output_type": "execute_result"
    }
   ],
   "source": [
    "future"
   ]
  },
  {
   "cell_type": "code",
   "execution_count": 54,
   "metadata": {},
   "outputs": [],
   "source": [
    "# scale the future\n",
    "future_X_scaled = scaler.transform(future_X)"
   ]
  },
  {
   "cell_type": "code",
   "execution_count": 55,
   "metadata": {},
   "outputs": [
    {
     "data": {
      "text/plain": [
       "0.6431414932249312"
      ]
     },
     "execution_count": 55,
     "metadata": {},
     "output_type": "execute_result"
    }
   ],
   "source": [
    "# predict the current season based on the best model\n",
    "future_pred = RFR_model.predict(future_X_scaled)\n",
    "future_pred.max()"
   ]
  },
  {
   "cell_type": "code",
   "execution_count": 56,
   "metadata": {},
   "outputs": [
    {
     "name": "stdout",
     "output_type": "stream",
     "text": [
      "The 1 seed prediction is :\n",
      "\n",
      " 52.737602444444356 \n",
      "\n",
      " Unnamed: 0             19\n",
      "Season            2021-22\n",
      "Team           Miami Heat\n",
      "Wins                  NaN\n",
      "1 TS           36016200.0\n",
      "1% TS           25.807807\n",
      "1% SC           32.038892\n",
      "2 TS           64119750.0\n",
      "2% TS           45.945716\n",
      "2% SC           57.038936\n",
      "3 TS           91103878.0\n",
      "3% TS           65.281492\n",
      "3% SC           81.043178\n",
      "4 TS          106663878.0\n",
      "4% TS           76.431182\n",
      "4% SC            94.88487\n",
      "5 TS          113663878.0\n",
      "5% TS           81.447109\n",
      "5% SC          101.111853\n",
      "6 TS          118878462.0\n",
      "6% TS           85.183677\n",
      "6% SC          105.750584\n",
      "7 TS          122882742.0\n",
      "7% TS           88.052988\n",
      "7% SC          109.312667\n",
      "8 TS          125524433.0\n",
      "8% TS           89.945921\n",
      "8% SC          111.662634\n",
      "9 TS          128166124.0\n",
      "9% TS           91.838854\n",
      "9% SC            114.0126\n",
      "10 TS         130555765.0\n",
      "10% TS          93.551178\n",
      "10% SC          116.13835\n",
      "Name: 19, dtype: object\n"
     ]
    }
   ],
   "source": [
    "print(\"\"\"The 1 seed prediction is :\n",
    "\n",
    "\"\"\", future_pred.max()*82,\"\"\"\n",
    "\n",
    "\"\"\",\n",
    "      future.loc[future_pred.argmax(),:])"
   ]
  },
  {
   "cell_type": "code",
   "execution_count": 57,
   "metadata": {},
   "outputs": [
    {
     "data": {
      "text/plain": [
       "array([0.54445446, 0.62224684, 0.5781778 , 0.55828897, 0.35140928,\n",
       "       0.57175501, 0.49585229, 0.53200026, 0.59863424, 0.55226198,\n",
       "       0.58306668, 0.44976089, 0.47504961, 0.55773213, 0.36694734,\n",
       "       0.48016334, 0.39585775, 0.5473904 , 0.38138407, 0.64314149,\n",
       "       0.46481477, 0.44337049, 0.54155163, 0.35615752, 0.43166032,\n",
       "       0.63255651, 0.54192738, 0.45896729, 0.56925069, 0.46062189])"
      ]
     },
     "execution_count": 57,
     "metadata": {},
     "output_type": "execute_result"
    }
   ],
   "source": [
    "future_pred"
   ]
  },
  {
   "cell_type": "code",
   "execution_count": 58,
   "metadata": {},
   "outputs": [
    {
     "data": {
      "text/html": [
       "<div>\n",
       "<style scoped>\n",
       "    .dataframe tbody tr th:only-of-type {\n",
       "        vertical-align: middle;\n",
       "    }\n",
       "\n",
       "    .dataframe tbody tr th {\n",
       "        vertical-align: top;\n",
       "    }\n",
       "\n",
       "    .dataframe thead th {\n",
       "        text-align: right;\n",
       "    }\n",
       "</style>\n",
       "<table border=\"1\" class=\"dataframe\">\n",
       "  <thead>\n",
       "    <tr style=\"text-align: right;\">\n",
       "      <th></th>\n",
       "      <th>Team</th>\n",
       "      <th>RANDOM Prediction</th>\n",
       "    </tr>\n",
       "  </thead>\n",
       "  <tbody>\n",
       "    <tr>\n",
       "      <th>1</th>\n",
       "      <td>Miami Heat</td>\n",
       "      <td>0.643141</td>\n",
       "    </tr>\n",
       "    <tr>\n",
       "      <th>2</th>\n",
       "      <td>Philadelphia Sixers</td>\n",
       "      <td>0.632557</td>\n",
       "    </tr>\n",
       "    <tr>\n",
       "      <th>3</th>\n",
       "      <td>Utah Jazz</td>\n",
       "      <td>0.622247</td>\n",
       "    </tr>\n",
       "    <tr>\n",
       "      <th>4</th>\n",
       "      <td>Golden State Warriors</td>\n",
       "      <td>0.598634</td>\n",
       "    </tr>\n",
       "    <tr>\n",
       "      <th>5</th>\n",
       "      <td>Los Angeles Clippers</td>\n",
       "      <td>0.583067</td>\n",
       "    </tr>\n",
       "    <tr>\n",
       "      <th>6</th>\n",
       "      <td>Minnesota Timberwolves</td>\n",
       "      <td>0.578178</td>\n",
       "    </tr>\n",
       "    <tr>\n",
       "      <th>7</th>\n",
       "      <td>Cleveland Cavaliers</td>\n",
       "      <td>0.571755</td>\n",
       "    </tr>\n",
       "    <tr>\n",
       "      <th>8</th>\n",
       "      <td>Toronto Raptors</td>\n",
       "      <td>0.569251</td>\n",
       "    </tr>\n",
       "    <tr>\n",
       "      <th>9</th>\n",
       "      <td>Denver Nuggets</td>\n",
       "      <td>0.558289</td>\n",
       "    </tr>\n",
       "    <tr>\n",
       "      <th>10</th>\n",
       "      <td>Dallas Mavericks</td>\n",
       "      <td>0.557732</td>\n",
       "    </tr>\n",
       "    <tr>\n",
       "      <th>11</th>\n",
       "      <td>Los Angeles Lakers</td>\n",
       "      <td>0.552262</td>\n",
       "    </tr>\n",
       "    <tr>\n",
       "      <th>12</th>\n",
       "      <td>Washington Wizards</td>\n",
       "      <td>0.547390</td>\n",
       "    </tr>\n",
       "    <tr>\n",
       "      <th>13</th>\n",
       "      <td>Portland Trailblazers</td>\n",
       "      <td>0.544454</td>\n",
       "    </tr>\n",
       "    <tr>\n",
       "      <th>14</th>\n",
       "      <td>Brooklyn Nets</td>\n",
       "      <td>0.541927</td>\n",
       "    </tr>\n",
       "    <tr>\n",
       "      <th>15</th>\n",
       "      <td>Milwaukee Bucks</td>\n",
       "      <td>0.541552</td>\n",
       "    </tr>\n",
       "    <tr>\n",
       "      <th>16</th>\n",
       "      <td>Phoenix Suns</td>\n",
       "      <td>0.532000</td>\n",
       "    </tr>\n",
       "    <tr>\n",
       "      <th>17</th>\n",
       "      <td>Indiana Pacers</td>\n",
       "      <td>0.495852</td>\n",
       "    </tr>\n",
       "    <tr>\n",
       "      <th>18</th>\n",
       "      <td>New Orleans Pelicans</td>\n",
       "      <td>0.480163</td>\n",
       "    </tr>\n",
       "    <tr>\n",
       "      <th>19</th>\n",
       "      <td>Atlanta Hawks</td>\n",
       "      <td>0.475050</td>\n",
       "    </tr>\n",
       "    <tr>\n",
       "      <th>20</th>\n",
       "      <td>Charlotte Hornets</td>\n",
       "      <td>0.464815</td>\n",
       "    </tr>\n",
       "    <tr>\n",
       "      <th>21</th>\n",
       "      <td>Boston Celtics</td>\n",
       "      <td>0.460622</td>\n",
       "    </tr>\n",
       "    <tr>\n",
       "      <th>22</th>\n",
       "      <td>New York Knicks</td>\n",
       "      <td>0.458967</td>\n",
       "    </tr>\n",
       "    <tr>\n",
       "      <th>23</th>\n",
       "      <td>Sacremento Kings</td>\n",
       "      <td>0.449761</td>\n",
       "    </tr>\n",
       "    <tr>\n",
       "      <th>24</th>\n",
       "      <td>Orlando Magic</td>\n",
       "      <td>0.443370</td>\n",
       "    </tr>\n",
       "    <tr>\n",
       "      <th>25</th>\n",
       "      <td>Chicago Bulls</td>\n",
       "      <td>0.431660</td>\n",
       "    </tr>\n",
       "    <tr>\n",
       "      <th>26</th>\n",
       "      <td>Houston Rockets</td>\n",
       "      <td>0.395858</td>\n",
       "    </tr>\n",
       "    <tr>\n",
       "      <th>27</th>\n",
       "      <td>San Antonio Spurs</td>\n",
       "      <td>0.381384</td>\n",
       "    </tr>\n",
       "    <tr>\n",
       "      <th>28</th>\n",
       "      <td>Memphis Grizzlies</td>\n",
       "      <td>0.366947</td>\n",
       "    </tr>\n",
       "    <tr>\n",
       "      <th>29</th>\n",
       "      <td>Detroit Pistons</td>\n",
       "      <td>0.356158</td>\n",
       "    </tr>\n",
       "    <tr>\n",
       "      <th>30</th>\n",
       "      <td>Oklahoma City Thunder</td>\n",
       "      <td>0.351409</td>\n",
       "    </tr>\n",
       "  </tbody>\n",
       "</table>\n",
       "</div>"
      ],
      "text/plain": [
       "                      Team  RANDOM Prediction\n",
       "1               Miami Heat           0.643141\n",
       "2      Philadelphia Sixers           0.632557\n",
       "3                Utah Jazz           0.622247\n",
       "4    Golden State Warriors           0.598634\n",
       "5     Los Angeles Clippers           0.583067\n",
       "6   Minnesota Timberwolves           0.578178\n",
       "7      Cleveland Cavaliers           0.571755\n",
       "8          Toronto Raptors           0.569251\n",
       "9           Denver Nuggets           0.558289\n",
       "10        Dallas Mavericks           0.557732\n",
       "11      Los Angeles Lakers           0.552262\n",
       "12      Washington Wizards           0.547390\n",
       "13   Portland Trailblazers           0.544454\n",
       "14           Brooklyn Nets           0.541927\n",
       "15         Milwaukee Bucks           0.541552\n",
       "16            Phoenix Suns           0.532000\n",
       "17          Indiana Pacers           0.495852\n",
       "18    New Orleans Pelicans           0.480163\n",
       "19           Atlanta Hawks           0.475050\n",
       "20       Charlotte Hornets           0.464815\n",
       "21          Boston Celtics           0.460622\n",
       "22         New York Knicks           0.458967\n",
       "23        Sacremento Kings           0.449761\n",
       "24           Orlando Magic           0.443370\n",
       "25           Chicago Bulls           0.431660\n",
       "26         Houston Rockets           0.395858\n",
       "27       San Antonio Spurs           0.381384\n",
       "28       Memphis Grizzlies           0.366947\n",
       "29         Detroit Pistons           0.356158\n",
       "30   Oklahoma City Thunder           0.351409"
      ]
     },
     "execution_count": 58,
     "metadata": {},
     "output_type": "execute_result"
    }
   ],
   "source": [
    "# let's see the complete results\n",
    "future['RANDOM Prediction'] = future_pred\n",
    "\n",
    "#order by wins\n",
    "future = future.sort_values(by=['RANDOM Prediction'], ascending=False)\n",
    "future_teams = future[['Team','RANDOM Prediction']]\n",
    "\n",
    "#do some adjusting\n",
    "future_teams = future_teams.reset_index()\n",
    "future_teams.index = future_teams.index +1\n",
    "\n",
    "#show me the results\n",
    "future_teams = future_teams.drop(columns='index')\n",
    "future_teams\n",
    "\n"
   ]
  },
  {
   "cell_type": "code",
   "execution_count": 59,
   "metadata": {},
   "outputs": [],
   "source": [
    "# testing ridge2 with the future results\n",
    "future_ridge = model_ridge_2.predict(future_X_scaled)"
   ]
  },
  {
   "cell_type": "code",
   "execution_count": 60,
   "metadata": {},
   "outputs": [
    {
     "data": {
      "text/plain": [
       "array([0.60812147, 0.58349701, 0.57742196, 0.50676304, 0.34384452,\n",
       "       0.41740734, 0.43933474, 0.5134513 , 0.55885955, 0.56621558,\n",
       "       0.62026136, 0.48925054, 0.3987    , 0.49676534, 0.34578044,\n",
       "       0.46946861, 0.50903704, 0.50932642, 0.36859219, 0.48476649,\n",
       "       0.45374439, 0.36179355, 0.50300174, 0.42660098, 0.44939591,\n",
       "       0.51477611, 0.5494194 , 0.40013003, 0.50339206, 0.49401548])"
      ]
     },
     "execution_count": 60,
     "metadata": {},
     "output_type": "execute_result"
    }
   ],
   "source": [
    "future_ridge"
   ]
  },
  {
   "cell_type": "code",
   "execution_count": 61,
   "metadata": {},
   "outputs": [],
   "source": [
    "future2 = pd.read_csv('future.csv')"
   ]
  },
  {
   "cell_type": "code",
   "execution_count": 62,
   "metadata": {},
   "outputs": [
    {
     "data": {
      "text/html": [
       "<div>\n",
       "<style scoped>\n",
       "    .dataframe tbody tr th:only-of-type {\n",
       "        vertical-align: middle;\n",
       "    }\n",
       "\n",
       "    .dataframe tbody tr th {\n",
       "        vertical-align: top;\n",
       "    }\n",
       "\n",
       "    .dataframe thead th {\n",
       "        text-align: right;\n",
       "    }\n",
       "</style>\n",
       "<table border=\"1\" class=\"dataframe\">\n",
       "  <thead>\n",
       "    <tr style=\"text-align: right;\">\n",
       "      <th></th>\n",
       "      <th>Team</th>\n",
       "      <th>RIDGE Prediction</th>\n",
       "    </tr>\n",
       "  </thead>\n",
       "  <tbody>\n",
       "    <tr>\n",
       "      <th>1</th>\n",
       "      <td>Los Angeles Clippers</td>\n",
       "      <td>0.620261</td>\n",
       "    </tr>\n",
       "    <tr>\n",
       "      <th>2</th>\n",
       "      <td>Portland Trailblazers</td>\n",
       "      <td>0.608121</td>\n",
       "    </tr>\n",
       "    <tr>\n",
       "      <th>3</th>\n",
       "      <td>Utah Jazz</td>\n",
       "      <td>0.583497</td>\n",
       "    </tr>\n",
       "    <tr>\n",
       "      <th>4</th>\n",
       "      <td>Minnesota Timberwolves</td>\n",
       "      <td>0.577422</td>\n",
       "    </tr>\n",
       "    <tr>\n",
       "      <th>5</th>\n",
       "      <td>Los Angeles Lakers</td>\n",
       "      <td>0.566216</td>\n",
       "    </tr>\n",
       "    <tr>\n",
       "      <th>6</th>\n",
       "      <td>Golden State Warriors</td>\n",
       "      <td>0.558860</td>\n",
       "    </tr>\n",
       "    <tr>\n",
       "      <th>7</th>\n",
       "      <td>Brooklyn Nets</td>\n",
       "      <td>0.549419</td>\n",
       "    </tr>\n",
       "    <tr>\n",
       "      <th>8</th>\n",
       "      <td>Philadelphia Sixers</td>\n",
       "      <td>0.514776</td>\n",
       "    </tr>\n",
       "    <tr>\n",
       "      <th>9</th>\n",
       "      <td>Phoenix Suns</td>\n",
       "      <td>0.513451</td>\n",
       "    </tr>\n",
       "    <tr>\n",
       "      <th>10</th>\n",
       "      <td>Washington Wizards</td>\n",
       "      <td>0.509326</td>\n",
       "    </tr>\n",
       "    <tr>\n",
       "      <th>11</th>\n",
       "      <td>Houston Rockets</td>\n",
       "      <td>0.509037</td>\n",
       "    </tr>\n",
       "    <tr>\n",
       "      <th>12</th>\n",
       "      <td>Denver Nuggets</td>\n",
       "      <td>0.506763</td>\n",
       "    </tr>\n",
       "    <tr>\n",
       "      <th>13</th>\n",
       "      <td>Toronto Raptors</td>\n",
       "      <td>0.503392</td>\n",
       "    </tr>\n",
       "    <tr>\n",
       "      <th>14</th>\n",
       "      <td>Milwaukee Bucks</td>\n",
       "      <td>0.503002</td>\n",
       "    </tr>\n",
       "    <tr>\n",
       "      <th>15</th>\n",
       "      <td>Dallas Mavericks</td>\n",
       "      <td>0.496765</td>\n",
       "    </tr>\n",
       "    <tr>\n",
       "      <th>16</th>\n",
       "      <td>Boston Celtics</td>\n",
       "      <td>0.494015</td>\n",
       "    </tr>\n",
       "    <tr>\n",
       "      <th>17</th>\n",
       "      <td>Sacremento Kings</td>\n",
       "      <td>0.489251</td>\n",
       "    </tr>\n",
       "    <tr>\n",
       "      <th>18</th>\n",
       "      <td>Miami Heat</td>\n",
       "      <td>0.484766</td>\n",
       "    </tr>\n",
       "    <tr>\n",
       "      <th>19</th>\n",
       "      <td>New Orleans Pelicans</td>\n",
       "      <td>0.469469</td>\n",
       "    </tr>\n",
       "    <tr>\n",
       "      <th>20</th>\n",
       "      <td>Charlotte Hornets</td>\n",
       "      <td>0.453744</td>\n",
       "    </tr>\n",
       "    <tr>\n",
       "      <th>21</th>\n",
       "      <td>Chicago Bulls</td>\n",
       "      <td>0.449396</td>\n",
       "    </tr>\n",
       "    <tr>\n",
       "      <th>22</th>\n",
       "      <td>Indiana Pacers</td>\n",
       "      <td>0.439335</td>\n",
       "    </tr>\n",
       "    <tr>\n",
       "      <th>23</th>\n",
       "      <td>Detroit Pistons</td>\n",
       "      <td>0.426601</td>\n",
       "    </tr>\n",
       "    <tr>\n",
       "      <th>24</th>\n",
       "      <td>Cleveland Cavaliers</td>\n",
       "      <td>0.417407</td>\n",
       "    </tr>\n",
       "    <tr>\n",
       "      <th>25</th>\n",
       "      <td>New York Knicks</td>\n",
       "      <td>0.400130</td>\n",
       "    </tr>\n",
       "    <tr>\n",
       "      <th>26</th>\n",
       "      <td>Atlanta Hawks</td>\n",
       "      <td>0.398700</td>\n",
       "    </tr>\n",
       "    <tr>\n",
       "      <th>27</th>\n",
       "      <td>San Antonio Spurs</td>\n",
       "      <td>0.368592</td>\n",
       "    </tr>\n",
       "    <tr>\n",
       "      <th>28</th>\n",
       "      <td>Orlando Magic</td>\n",
       "      <td>0.361794</td>\n",
       "    </tr>\n",
       "    <tr>\n",
       "      <th>29</th>\n",
       "      <td>Memphis Grizzlies</td>\n",
       "      <td>0.345780</td>\n",
       "    </tr>\n",
       "    <tr>\n",
       "      <th>30</th>\n",
       "      <td>Oklahoma City Thunder</td>\n",
       "      <td>0.343845</td>\n",
       "    </tr>\n",
       "  </tbody>\n",
       "</table>\n",
       "</div>"
      ],
      "text/plain": [
       "                      Team  RIDGE Prediction\n",
       "1     Los Angeles Clippers          0.620261\n",
       "2    Portland Trailblazers          0.608121\n",
       "3                Utah Jazz          0.583497\n",
       "4   Minnesota Timberwolves          0.577422\n",
       "5       Los Angeles Lakers          0.566216\n",
       "6    Golden State Warriors          0.558860\n",
       "7            Brooklyn Nets          0.549419\n",
       "8      Philadelphia Sixers          0.514776\n",
       "9             Phoenix Suns          0.513451\n",
       "10      Washington Wizards          0.509326\n",
       "11         Houston Rockets          0.509037\n",
       "12          Denver Nuggets          0.506763\n",
       "13         Toronto Raptors          0.503392\n",
       "14         Milwaukee Bucks          0.503002\n",
       "15        Dallas Mavericks          0.496765\n",
       "16          Boston Celtics          0.494015\n",
       "17        Sacremento Kings          0.489251\n",
       "18              Miami Heat          0.484766\n",
       "19    New Orleans Pelicans          0.469469\n",
       "20       Charlotte Hornets          0.453744\n",
       "21           Chicago Bulls          0.449396\n",
       "22          Indiana Pacers          0.439335\n",
       "23         Detroit Pistons          0.426601\n",
       "24     Cleveland Cavaliers          0.417407\n",
       "25         New York Knicks          0.400130\n",
       "26           Atlanta Hawks          0.398700\n",
       "27       San Antonio Spurs          0.368592\n",
       "28           Orlando Magic          0.361794\n",
       "29       Memphis Grizzlies          0.345780\n",
       "30   Oklahoma City Thunder          0.343845"
      ]
     },
     "execution_count": 62,
     "metadata": {},
     "output_type": "execute_result"
    }
   ],
   "source": [
    "# let's see the complete results of ridge2\n",
    "future2['RIDGE Prediction'] = future_ridge\n",
    "\n",
    "#order by wins\n",
    "future2 = future2.sort_values(by=['RIDGE Prediction'], ascending=False)\n",
    "future2 = future2[['Team','RIDGE Prediction']]\n",
    "\n",
    "#do some adjusting\n",
    "future2 = future2.reset_index()\n",
    "future2.index = future2.index +1\n",
    "\n",
    "#show me the results\n",
    "future2 = future2.drop(columns='index')\n",
    "future2\n",
    "\n"
   ]
  },
  {
   "cell_type": "code",
   "execution_count": 63,
   "metadata": {},
   "outputs": [
    {
     "data": {
      "text/html": [
       "<div>\n",
       "<style scoped>\n",
       "    .dataframe tbody tr th:only-of-type {\n",
       "        vertical-align: middle;\n",
       "    }\n",
       "\n",
       "    .dataframe tbody tr th {\n",
       "        vertical-align: top;\n",
       "    }\n",
       "\n",
       "    .dataframe thead th {\n",
       "        text-align: right;\n",
       "    }\n",
       "</style>\n",
       "<table border=\"1\" class=\"dataframe\">\n",
       "  <thead>\n",
       "    <tr style=\"text-align: right;\">\n",
       "      <th></th>\n",
       "      <th>Team</th>\n",
       "      <th>Lasso Prediction</th>\n",
       "    </tr>\n",
       "  </thead>\n",
       "  <tbody>\n",
       "    <tr>\n",
       "      <th>1</th>\n",
       "      <td>Phoenix Suns</td>\n",
       "      <td>0.628170</td>\n",
       "    </tr>\n",
       "    <tr>\n",
       "      <th>2</th>\n",
       "      <td>Los Angeles Clippers</td>\n",
       "      <td>0.584473</td>\n",
       "    </tr>\n",
       "    <tr>\n",
       "      <th>3</th>\n",
       "      <td>Memphis Grizzlies</td>\n",
       "      <td>0.583850</td>\n",
       "    </tr>\n",
       "    <tr>\n",
       "      <th>4</th>\n",
       "      <td>Orlando Magic</td>\n",
       "      <td>0.567323</td>\n",
       "    </tr>\n",
       "    <tr>\n",
       "      <th>5</th>\n",
       "      <td>Chicago Bulls</td>\n",
       "      <td>0.558919</td>\n",
       "    </tr>\n",
       "    <tr>\n",
       "      <th>6</th>\n",
       "      <td>Portland Trailblazers</td>\n",
       "      <td>0.557880</td>\n",
       "    </tr>\n",
       "    <tr>\n",
       "      <th>7</th>\n",
       "      <td>Minnesota Timberwolves</td>\n",
       "      <td>0.555061</td>\n",
       "    </tr>\n",
       "    <tr>\n",
       "      <th>8</th>\n",
       "      <td>Utah Jazz</td>\n",
       "      <td>0.546366</td>\n",
       "    </tr>\n",
       "    <tr>\n",
       "      <th>9</th>\n",
       "      <td>Toronto Raptors</td>\n",
       "      <td>0.545077</td>\n",
       "    </tr>\n",
       "    <tr>\n",
       "      <th>10</th>\n",
       "      <td>New York Knicks</td>\n",
       "      <td>0.543414</td>\n",
       "    </tr>\n",
       "    <tr>\n",
       "      <th>11</th>\n",
       "      <td>Atlanta Hawks</td>\n",
       "      <td>0.542696</td>\n",
       "    </tr>\n",
       "    <tr>\n",
       "      <th>12</th>\n",
       "      <td>Golden State Warriors</td>\n",
       "      <td>0.530782</td>\n",
       "    </tr>\n",
       "    <tr>\n",
       "      <th>13</th>\n",
       "      <td>Charlotte Hornets</td>\n",
       "      <td>0.519164</td>\n",
       "    </tr>\n",
       "    <tr>\n",
       "      <th>14</th>\n",
       "      <td>Boston Celtics</td>\n",
       "      <td>0.517282</td>\n",
       "    </tr>\n",
       "    <tr>\n",
       "      <th>15</th>\n",
       "      <td>Dallas Mavericks</td>\n",
       "      <td>0.505028</td>\n",
       "    </tr>\n",
       "    <tr>\n",
       "      <th>16</th>\n",
       "      <td>Sacremento Kings</td>\n",
       "      <td>0.503429</td>\n",
       "    </tr>\n",
       "    <tr>\n",
       "      <th>17</th>\n",
       "      <td>Houston Rockets</td>\n",
       "      <td>0.494717</td>\n",
       "    </tr>\n",
       "    <tr>\n",
       "      <th>18</th>\n",
       "      <td>Oklahoma City Thunder</td>\n",
       "      <td>0.493125</td>\n",
       "    </tr>\n",
       "    <tr>\n",
       "      <th>19</th>\n",
       "      <td>Cleveland Cavaliers</td>\n",
       "      <td>0.491547</td>\n",
       "    </tr>\n",
       "    <tr>\n",
       "      <th>20</th>\n",
       "      <td>Brooklyn Nets</td>\n",
       "      <td>0.490322</td>\n",
       "    </tr>\n",
       "    <tr>\n",
       "      <th>21</th>\n",
       "      <td>Indiana Pacers</td>\n",
       "      <td>0.486116</td>\n",
       "    </tr>\n",
       "    <tr>\n",
       "      <th>22</th>\n",
       "      <td>Denver Nuggets</td>\n",
       "      <td>0.482437</td>\n",
       "    </tr>\n",
       "    <tr>\n",
       "      <th>23</th>\n",
       "      <td>Miami Heat</td>\n",
       "      <td>0.476404</td>\n",
       "    </tr>\n",
       "    <tr>\n",
       "      <th>24</th>\n",
       "      <td>Milwaukee Bucks</td>\n",
       "      <td>0.472734</td>\n",
       "    </tr>\n",
       "    <tr>\n",
       "      <th>25</th>\n",
       "      <td>Detroit Pistons</td>\n",
       "      <td>0.468996</td>\n",
       "    </tr>\n",
       "    <tr>\n",
       "      <th>26</th>\n",
       "      <td>Los Angeles Lakers</td>\n",
       "      <td>0.467715</td>\n",
       "    </tr>\n",
       "    <tr>\n",
       "      <th>27</th>\n",
       "      <td>Washington Wizards</td>\n",
       "      <td>0.464875</td>\n",
       "    </tr>\n",
       "    <tr>\n",
       "      <th>28</th>\n",
       "      <td>Philadelphia Sixers</td>\n",
       "      <td>0.424579</td>\n",
       "    </tr>\n",
       "    <tr>\n",
       "      <th>29</th>\n",
       "      <td>San Antonio Spurs</td>\n",
       "      <td>0.396773</td>\n",
       "    </tr>\n",
       "    <tr>\n",
       "      <th>30</th>\n",
       "      <td>New Orleans Pelicans</td>\n",
       "      <td>0.373735</td>\n",
       "    </tr>\n",
       "  </tbody>\n",
       "</table>\n",
       "</div>"
      ],
      "text/plain": [
       "                      Team  Lasso Prediction\n",
       "1             Phoenix Suns          0.628170\n",
       "2     Los Angeles Clippers          0.584473\n",
       "3        Memphis Grizzlies          0.583850\n",
       "4            Orlando Magic          0.567323\n",
       "5            Chicago Bulls          0.558919\n",
       "6    Portland Trailblazers          0.557880\n",
       "7   Minnesota Timberwolves          0.555061\n",
       "8                Utah Jazz          0.546366\n",
       "9          Toronto Raptors          0.545077\n",
       "10         New York Knicks          0.543414\n",
       "11           Atlanta Hawks          0.542696\n",
       "12   Golden State Warriors          0.530782\n",
       "13       Charlotte Hornets          0.519164\n",
       "14          Boston Celtics          0.517282\n",
       "15        Dallas Mavericks          0.505028\n",
       "16        Sacremento Kings          0.503429\n",
       "17         Houston Rockets          0.494717\n",
       "18   Oklahoma City Thunder          0.493125\n",
       "19     Cleveland Cavaliers          0.491547\n",
       "20           Brooklyn Nets          0.490322\n",
       "21          Indiana Pacers          0.486116\n",
       "22          Denver Nuggets          0.482437\n",
       "23              Miami Heat          0.476404\n",
       "24         Milwaukee Bucks          0.472734\n",
       "25         Detroit Pistons          0.468996\n",
       "26      Los Angeles Lakers          0.467715\n",
       "27      Washington Wizards          0.464875\n",
       "28     Philadelphia Sixers          0.424579\n",
       "29       San Antonio Spurs          0.396773\n",
       "30    New Orleans Pelicans          0.373735"
      ]
     },
     "execution_count": 63,
     "metadata": {},
     "output_type": "execute_result"
    }
   ],
   "source": [
    "future3 = pd.read_csv('future.csv')\n",
    "\n",
    "future_lasso = model_lasso.predict(X_test_scaled)\n",
    "\n",
    "\n",
    "# let's see the complete results of lasso1\n",
    "future3['Lasso Prediction'] = future_lasso\n",
    "\n",
    "#order by wins\n",
    "future3 = future3.sort_values(by=['Lasso Prediction'], ascending=False)\n",
    "future3 = future3[['Team','Lasso Prediction']]\n",
    "\n",
    "#do some adjusting\n",
    "future3 = future3.reset_index()\n",
    "future3.index = future3.index +1\n",
    "\n",
    "#show me the results\n",
    "future3 = future3.drop(columns='index')\n",
    "future3"
   ]
  },
  {
   "cell_type": "code",
   "execution_count": null,
   "metadata": {},
   "outputs": [],
   "source": []
  },
  {
   "cell_type": "code",
   "execution_count": null,
   "metadata": {},
   "outputs": [],
   "source": []
  },
  {
   "cell_type": "code",
   "execution_count": null,
   "metadata": {},
   "outputs": [],
   "source": []
  },
  {
   "cell_type": "code",
   "execution_count": 64,
   "metadata": {},
   "outputs": [],
   "source": [
    "future_up = future_teams.copy(deep=True)"
   ]
  },
  {
   "cell_type": "code",
   "execution_count": null,
   "metadata": {},
   "outputs": [],
   "source": []
  },
  {
   "cell_type": "code",
   "execution_count": null,
   "metadata": {},
   "outputs": [],
   "source": []
  }
 ],
 "metadata": {
  "kernelspec": {
   "display_name": "Python 3 (ipykernel)",
   "language": "python",
   "name": "python3"
  },
  "language_info": {
   "codemirror_mode": {
    "name": "ipython",
    "version": 3
   },
   "file_extension": ".py",
   "mimetype": "text/x-python",
   "name": "python",
   "nbconvert_exporter": "python",
   "pygments_lexer": "ipython3",
   "version": "3.8.12"
  }
 },
 "nbformat": 4,
 "nbformat_minor": 4
}
