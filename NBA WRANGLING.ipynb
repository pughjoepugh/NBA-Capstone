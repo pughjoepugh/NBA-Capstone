{
 "cells": [
  {
   "cell_type": "code",
   "execution_count": 1,
   "id": "6bafdf97",
   "metadata": {},
   "outputs": [],
   "source": [
    "# load packages\n",
    "\n",
    "import pandas as pd\n",
    "import numpy as np"
   ]
  },
  {
   "cell_type": "code",
   "execution_count": 2,
   "id": "c41d9e21",
   "metadata": {},
   "outputs": [],
   "source": [
    "# load csv\n",
    "\n",
    "nba16 = pd.read_csv('NBA 2016_17.csv')\n",
    "nba17 = pd.read_csv('NBA 2017_18.csv')\n",
    "nba18 = pd.read_csv('NBA 2018_19.csv')\n",
    "nba19 = pd.read_csv('NBA 2019_20.csv')\n",
    "nba20 = pd.read_csv('NBA 2020_21.csv')\n",
    "nba21 = pd.read_csv('NBA 2021_22.csv')"
   ]
  },
  {
   "cell_type": "markdown",
   "id": "ab0c7f59",
   "metadata": {},
   "source": [
    "Team name\n",
    "season\n",
    "running total for salary of number of top paid players\n",
    "(column 1 is highest paid player salary, column 2 is 1+2 highest salary)\n",
    "wins\n",
    "salary(s) as percent of total team salary\n",
    "salary(s) as percent of salary cap"
   ]
  },
  {
   "cell_type": "code",
   "execution_count": 3,
   "id": "8b5ff6b7",
   "metadata": {},
   "outputs": [],
   "source": [
    "#reshaping, orienting the data to have each row be an instance, and each column be a feature\n",
    "# also creating new features \n",
    "# each player with now have their cumulative salary, that percent of team's total salary, \n",
    "# and that percent of salary cap\n",
    "\n",
    "def construct(csv):\n",
    "    df = pd.DataFrame()\n",
    "    df['Season'] = [csv.iloc[x,0] for x in range(1,179,6)]\n",
    "    df['Team'] = [csv.iloc[x,0] for x in range(0,179,6)]\n",
    "    df['Wins'] = [csv.iloc[x,0] for x in range(3,179,6)]\n",
    "\n",
    "    df['1 TS'] = [csv.iloc[x,0] for x in range(2,179,6)]\n",
    "    df['1% TS'] = [csv.iloc[x,0] for x in range(4,179,6)]\n",
    "    df['1% SC'] = [csv.iloc[x,0] for x in range(5,180,6)]\n",
    "\n",
    "    df['2 TS'] = [csv.iloc[x,1] for x in range(2,179,6)]\n",
    "    df['2% TS'] = [csv.iloc[x,1] for x in range(4,179,6)]\n",
    "    df['2% SC'] = [csv.iloc[x,1] for x in range(5,180,6)]\n",
    "\n",
    "    df['3 TS'] = [csv.iloc[x,2] for x in range(2,179,6)]\n",
    "    df['3% TS'] = [csv.iloc[x,2] for x in range(4,179,6)]\n",
    "    df['3% SC'] = [csv.iloc[x,2] for x in range(5,180,6)]\n",
    "\n",
    "    df['4 TS'] = [csv.iloc[x,3] for x in range(2,179,6)]\n",
    "    df['4% TS'] = [csv.iloc[x,3] for x in range(4,179,6)]\n",
    "    df['4% SC'] = [csv.iloc[x,3] for x in range(5,180,6)]\n",
    "\n",
    "    df['5 TS'] = [csv.iloc[x,4] for x in range(2,179,6)]\n",
    "    df['5% TS'] = [csv.iloc[x,4] for x in range(4,179,6)]\n",
    "    df['5% SC'] = [csv.iloc[x,4] for x in range(5,180,6)]\n",
    "\n",
    "    df['6 TS'] = [csv.iloc[x,5] for x in range(2,179,6)]\n",
    "    df['6% TS'] = [csv.iloc[x,5] for x in range(4,179,6)]\n",
    "    df['6% SC'] = [csv.iloc[x,5] for x in range(5,180,6)]\n",
    "\n",
    "    df['7 TS'] = [csv.iloc[x,6] for x in range(2,179,6)]\n",
    "    df['7% TS'] = [csv.iloc[x,6] for x in range(4,179,6)]\n",
    "    df['7% SC'] = [csv.iloc[x,6] for x in range(5,180,6)]\n",
    "\n",
    "    df['8 TS'] = [csv.iloc[x,7] for x in range(2,179,6)]\n",
    "    df['8% TS'] = [csv.iloc[x,7] for x in range(4,179,6)]\n",
    "    df['8% SC'] = [csv.iloc[x,7] for x in range(5,180,6)]\n",
    "\n",
    "    df['9 TS'] = [csv.iloc[x,8] for x in range(2,179,6)]\n",
    "    df['9% TS'] = [csv.iloc[x,8] for x in range(4,179,6)]\n",
    "    df['9% SC'] = [csv.iloc[x,8] for x in range(5,180,6)]\n",
    "\n",
    "    df['10 TS'] = [csv.iloc[x,9] for x in range(2,179,6)]\n",
    "    df['10% TS'] = [csv.iloc[x,9] for x in range(4,179,6)]\n",
    "    df['10% SC'] = [csv.iloc[x,9] for x in range(5,180,6)]\n",
    "\n",
    "    \n",
    "#adjust datatypes\n",
    "\n",
    "    for col in  df.columns[2:]:\n",
    "        df[col] = pd.to_numeric(df[col], errors='coerce')\n",
    "        \n",
    "    new = df\n",
    "    \n",
    "    return new"
   ]
  },
  {
   "cell_type": "code",
   "execution_count": 4,
   "id": "010afba0",
   "metadata": {},
   "outputs": [],
   "source": [
    "# getting season info\n",
    "seasons, new_seasons = [nba16, nba17, nba18, nba19, nba20, nba21],[]\n",
    "\n",
    "for i in range(len(seasons)):\n",
    "    df_temp = seasons[i]\n",
    "    new_seasons.append(construct(df_temp))"
   ]
  },
  {
   "cell_type": "code",
   "execution_count": 5,
   "id": "3313c273",
   "metadata": {},
   "outputs": [],
   "source": [
    "# format cleaning\n",
    "\n",
    "nba2016_17 = new_seasons[0]\n",
    "nba2017_18 = new_seasons[1]\n",
    "nba2018_19 = new_seasons[2]\n",
    "nba2019_20 = new_seasons[3]\n",
    "nba2020_21 = new_seasons[4]\n",
    "nba2021_22 = new_seasons[5]"
   ]
  },
  {
   "cell_type": "code",
   "execution_count": 6,
   "id": "f9c459ee",
   "metadata": {},
   "outputs": [],
   "source": [
    "# standardizing win total into win percentage\n",
    "# this is because not every season had the same number of games.\n",
    "\n",
    "#2020/21 season had 72 regular season games\n",
    "nba2020_21['Wins'] = nba2020_21['Wins']/72"
   ]
  },
  {
   "cell_type": "code",
   "execution_count": 7,
   "id": "45a2e25e",
   "metadata": {},
   "outputs": [],
   "source": [
    "#2019/20 season had a variable number of games due to covid\n",
    "\n",
    "nba2019_20.iloc[:,[2]] = [0.611, 0.630, 0.473, 0.297, 0.611, 0.466, 0.681, 0.732, 0.231, 0.431, 0.573, 0.451, 0.611, 0.417, 0.466, 0.299, 0.603, 0.347, 0.354, 0.452, 0.767, 0.667, 0.303, 0.338, 0.616, 0.589, 0.486, 0.318, 0.736, 0.667]"
   ]
  },
  {
   "cell_type": "code",
   "execution_count": 8,
   "id": "6daeb2ad",
   "metadata": {},
   "outputs": [],
   "source": [
    "#these seasons all have the normal 82 games\n",
    "nba2018_19['Wins'] = nba2018_19['Wins']/82\n",
    "nba2017_18['Wins'] = nba2017_18['Wins']/82\n",
    "nba2016_17['Wins'] = nba2016_17['Wins']/82"
   ]
  },
  {
   "cell_type": "code",
   "execution_count": 9,
   "id": "8b9201e9",
   "metadata": {},
   "outputs": [],
   "source": [
    "# putting it all together\n",
    "\n",
    "NBA = pd.concat([nba2016_17, nba2017_18, nba2018_19, nba2019_20, nba2020_21], keys=['2016-17', '2017-18', '2018-19', '2019-20', '2020-21'],\n",
    "                names=['Season', 'Row ID'])\n",
    "\n"
   ]
  },
  {
   "cell_type": "code",
   "execution_count": 10,
   "id": "8657ddcc",
   "metadata": {},
   "outputs": [],
   "source": [
    "NBA = NBA.drop(columns=['Season'])"
   ]
  },
  {
   "cell_type": "code",
   "execution_count": 11,
   "id": "c5450bbd",
   "metadata": {},
   "outputs": [],
   "source": [
    "# Storing the 2021-22 season for after modeling.\n",
    "future = nba2021_22\n",
    "future.to_csv('future.csv')\n",
    "\n",
    "#saving the cleaned data\n",
    "NBA.to_csv('NBA.csv')"
   ]
  }
 ],
 "metadata": {
  "kernelspec": {
   "display_name": "Python 3 (ipykernel)",
   "language": "python",
   "name": "python3"
  },
  "language_info": {
   "codemirror_mode": {
    "name": "ipython",
    "version": 3
   },
   "file_extension": ".py",
   "mimetype": "text/x-python",
   "name": "python",
   "nbconvert_exporter": "python",
   "pygments_lexer": "ipython3",
   "version": "3.8.12"
  }
 },
 "nbformat": 4,
 "nbformat_minor": 5
}
